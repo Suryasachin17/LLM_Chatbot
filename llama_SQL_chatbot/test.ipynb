{
 "cells": [
  {
   "cell_type": "code",
   "execution_count": 2,
   "id": "abf2aed1",
   "metadata": {},
   "outputs": [],
   "source": [
    "lines = '''\"Based on the given database schema and examples, I will generate an SQL query to answer the question \"Who are all pass?\". \n",
    "\n",
    "To answer this question, we need to check which cc_no has a status of 'passed' in both tasks_cycle and memory_details tables. Here is the SQL query:\n",
    "\n",
    "```\n",
    "SELECT DISTINCT tc.cc_no\n",
    "FROM tasks_cycle tc\n",
    "JOIN memory_details md ON tc.cc_no = md.cc_no\n",
    "WHERE tc.status_ = 'passed' AND md.status_ = 'passed';\n",
    "```\n",
    "\n",
    "This query joins tasks_cycle and memory_details on cc_no, then selects all distinct cc_no that have a status of 'passed' in both tables.'''"
   ]
  },
  {
   "cell_type": "code",
   "execution_count": 5,
   "id": "f437e37b",
   "metadata": {},
   "outputs": [
    {
     "data": {
      "text/plain": [
       "['\"Based on the given database schema and examples, I will generate an SQL query to answer the question \"Who are all pass?\". ',\n",
       " '',\n",
       " \"To answer this question, we need to check which cc_no has a status of 'passed' in both tasks_cycle and memory_details tables. Here is the SQL query:\",\n",
       " '',\n",
       " '```',\n",
       " 'SELECT DISTINCT tc.cc_no',\n",
       " 'FROM tasks_cycle tc',\n",
       " 'JOIN memory_details md ON tc.cc_no = md.cc_no',\n",
       " \"WHERE tc.status_ = 'passed' AND md.status_ = 'passed';\",\n",
       " '```',\n",
       " '',\n",
       " \"This query joins tasks_cycle and memory_details on cc_no, then selects all distinct cc_no that have a status of 'passed' in both tables.\"]"
      ]
     },
     "execution_count": 5,
     "metadata": {},
     "output_type": "execute_result"
    }
   ],
   "source": [
    "lines.splitlines()"
   ]
  },
  {
   "cell_type": "code",
   "execution_count": 16,
   "id": "7a888277",
   "metadata": {},
   "outputs": [
    {
     "name": "stdout",
     "output_type": "stream",
     "text": [
      "SELECT DISTINCT tc.cc_no\n"
     ]
    }
   ],
   "source": [
    "for line in lines.splitlines():\n",
    "    \n",
    "    if line.strip().startswith(\"SELECT\"):\n",
    "        print(line.strip())"
   ]
  },
  {
   "cell_type": "code",
   "execution_count": null,
   "id": "59ef6849",
   "metadata": {},
   "outputs": [],
   "source": []
  }
 ],
 "metadata": {
  "kernelspec": {
   "display_name": "base",
   "language": "python",
   "name": "python3"
  },
  "language_info": {
   "codemirror_mode": {
    "name": "ipython",
    "version": 3
   },
   "file_extension": ".py",
   "mimetype": "text/x-python",
   "name": "python",
   "nbconvert_exporter": "python",
   "pygments_lexer": "ipython3",
   "version": "3.12.4"
  }
 },
 "nbformat": 4,
 "nbformat_minor": 5
}
