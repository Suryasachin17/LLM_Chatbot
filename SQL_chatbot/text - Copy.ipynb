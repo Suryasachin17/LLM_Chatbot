{
 "cells": [
  {
   "cell_type": "code",
   "execution_count": null,
   "metadata": {},
   "outputs": [],
   "source": [
    "#!pip install PyMySQL"
   ]
  },
  {
   "cell_type": "code",
   "execution_count": 17,
   "metadata": {},
   "outputs": [],
   "source": [
    "import vanna as vn\n",
    "\n",
    "# vn-fca920f85ca94e4dbfbd448d15b3e0bf"
   ]
  },
  {
   "cell_type": "code",
   "execution_count": 20,
   "metadata": {},
   "outputs": [
    {
     "name": "stdout",
     "output_type": "stream",
     "text": [
      "['__abstractmethods__', '__class__', '__delattr__', '__dict__', '__dir__', '__doc__', '__eq__', '__format__', '__ge__', '__getattribute__', '__gt__', '__hash__', '__init__', '__init_subclass__', '__le__', '__lt__', '__module__', '__ne__', '__new__', '__reduce__', '__reduce_ex__', '__repr__', '__setattr__', '__sizeof__', '__slots__', '__str__', '__subclasshook__', '__weakref__', '_abc_impl', '_dataclass_to_dict', '_extract_python_code', '_get_databases', '_get_information_schema_tables', '_response_language', '_rpc_call', '_sanitize_plotly_code', 'add_ddl', 'add_ddl_to_prompt', 'add_documentation', 'add_documentation_to_prompt', 'add_question_sql', 'add_sql_to_prompt', 'ask', 'assistant_message', 'connect_to_bigquery', 'connect_to_clickhouse', 'connect_to_duckdb', 'connect_to_hive', 'connect_to_mssql', 'connect_to_mysql', 'connect_to_oracle', 'connect_to_postgres', 'connect_to_presto', 'connect_to_snowflake', 'connect_to_sqlite', 'create_function', 'create_model', 'delete_function', 'extract_sql', 'generate_embedding', 'generate_followup_questions', 'generate_plotly_code', 'generate_question', 'generate_questions', 'generate_rewritten_question', 'generate_sql', 'generate_summary', 'get_all_functions', 'get_followup_questions_prompt', 'get_function', 'get_models', 'get_plotly_figure', 'get_related_ddl', 'get_related_documentation', 'get_related_training_data_cached', 'get_similar_question_sql', 'get_sql_prompt', 'get_training_data', 'get_training_plan_generic', 'get_training_plan_snowflake', 'is_sql_valid', 'log', 'remove_training_data', 'run_sql', 'should_generate_chart', 'str_to_approx_token_count', 'submit_prompt', 'system_message', 'train', 'update_function', 'user_message']\n"
     ]
    }
   ],
   "source": [
    "from vanna.remote import VannaDefault\n",
    "print(dir(VannaDefault))"
   ]
  },
  {
   "cell_type": "code",
   "execution_count": 35,
   "metadata": {},
   "outputs": [],
   "source": [
    "\n",
    "from vanna.remote import VannaDefault\n",
    "vn = VannaDefault(model='greatmodelllm', api_key='547841dc7ec443baa328b02d3eb57ec7')\n",
    "# vn.connect_to_...() # Connect to your database here\n",
    "vn.connect_to_mysql(host='127.0.0.1', dbname='vision_db', user='root', password='Lucas@123', port=3306)"
   ]
  },
  {
   "cell_type": "code",
   "execution_count": 36,
   "metadata": {},
   "outputs": [
    {
     "name": "stdout",
     "output_type": "stream",
     "text": [
      "['greatmodelllm']\n"
     ]
    }
   ],
   "source": [
    "print(vn.get_models())\n"
   ]
  },
  {
   "cell_type": "code",
   "execution_count": 33,
   "metadata": {},
   "outputs": [
    {
     "data": {
      "text/plain": [
       "Train on Information Schema: def.calib neumatic\n",
       "Train on Information Schema: def.calib neumatic_new\n",
       "Train on Information Schema: def.calib pneumatic\n",
       "Train on Information Schema: def.calib pneumatic_table\n",
       "Train on Information Schema: def.calib pneumaticss\n",
       "Train on Information Schema: def.calib pneumaticsspart\n",
       "Train on Information Schema: def.calib starter_master\n",
       "Train on Information Schema: def.calib station_master\n",
       "Train on Information Schema: def.information_schema ADMINISTRABLE_ROLE_AUTHORIZATIONS\n",
       "Train on Information Schema: def.information_schema APPLICABLE_ROLES\n",
       "Train on Information Schema: def.information_schema CHARACTER_SETS\n",
       "Train on Information Schema: def.information_schema CHECK_CONSTRAINTS\n",
       "Train on Information Schema: def.information_schema COLLATION_CHARACTER_SET_APPLICABILITY\n",
       "Train on Information Schema: def.information_schema COLLATIONS\n",
       "Train on Information Schema: def.information_schema COLUMN_PRIVILEGES\n",
       "Train on Information Schema: def.information_schema COLUMN_STATISTICS\n",
       "Train on Information Schema: def.information_schema COLUMNS\n",
       "Train on Information Schema: def.information_schema COLUMNS_EXTENSIONS\n",
       "Train on Information Schema: def.information_schema ENABLED_ROLES\n",
       "Train on Information Schema: def.information_schema ENGINES\n",
       "Train on Information Schema: def.information_schema EVENTS\n",
       "Train on Information Schema: def.information_schema FILES\n",
       "Train on Information Schema: def.information_schema INNODB_BUFFER_PAGE\n",
       "Train on Information Schema: def.information_schema INNODB_BUFFER_PAGE_LRU\n",
       "Train on Information Schema: def.information_schema INNODB_BUFFER_POOL_STATS\n",
       "Train on Information Schema: def.information_schema INNODB_CACHED_INDEXES\n",
       "Train on Information Schema: def.information_schema INNODB_CMP\n",
       "Train on Information Schema: def.information_schema INNODB_CMP_PER_INDEX\n",
       "Train on Information Schema: def.information_schema INNODB_CMP_PER_INDEX_RESET\n",
       "Train on Information Schema: def.information_schema INNODB_CMP_RESET\n",
       "Train on Information Schema: def.information_schema INNODB_CMPMEM\n",
       "Train on Information Schema: def.information_schema INNODB_CMPMEM_RESET\n",
       "Train on Information Schema: def.information_schema INNODB_COLUMNS\n",
       "Train on Information Schema: def.information_schema INNODB_DATAFILES\n",
       "Train on Information Schema: def.information_schema INNODB_FIELDS\n",
       "Train on Information Schema: def.information_schema INNODB_FOREIGN\n",
       "Train on Information Schema: def.information_schema INNODB_FOREIGN_COLS\n",
       "Train on Information Schema: def.information_schema INNODB_FT_BEING_DELETED\n",
       "Train on Information Schema: def.information_schema INNODB_FT_CONFIG\n",
       "Train on Information Schema: def.information_schema INNODB_FT_DEFAULT_STOPWORD\n",
       "Train on Information Schema: def.information_schema INNODB_FT_DELETED\n",
       "Train on Information Schema: def.information_schema INNODB_FT_INDEX_CACHE\n",
       "Train on Information Schema: def.information_schema INNODB_FT_INDEX_TABLE\n",
       "Train on Information Schema: def.information_schema INNODB_INDEXES\n",
       "Train on Information Schema: def.information_schema INNODB_METRICS\n",
       "Train on Information Schema: def.information_schema INNODB_SESSION_TEMP_TABLESPACES\n",
       "Train on Information Schema: def.information_schema INNODB_TABLES\n",
       "Train on Information Schema: def.information_schema INNODB_TABLESPACES\n",
       "Train on Information Schema: def.information_schema INNODB_TABLESPACES_BRIEF\n",
       "Train on Information Schema: def.information_schema INNODB_TABLESTATS\n",
       "Train on Information Schema: def.information_schema INNODB_TEMP_TABLE_INFO\n",
       "Train on Information Schema: def.information_schema INNODB_TRX\n",
       "Train on Information Schema: def.information_schema INNODB_VIRTUAL\n",
       "Train on Information Schema: def.information_schema KEY_COLUMN_USAGE\n",
       "Train on Information Schema: def.information_schema KEYWORDS\n",
       "Train on Information Schema: def.information_schema OPTIMIZER_TRACE\n",
       "Train on Information Schema: def.information_schema PARAMETERS\n",
       "Train on Information Schema: def.information_schema PARTITIONS\n",
       "Train on Information Schema: def.information_schema PLUGINS\n",
       "Train on Information Schema: def.information_schema PROCESSLIST\n",
       "Train on Information Schema: def.information_schema PROFILING\n",
       "Train on Information Schema: def.information_schema REFERENTIAL_CONSTRAINTS\n",
       "Train on Information Schema: def.information_schema RESOURCE_GROUPS\n",
       "Train on Information Schema: def.information_schema ROLE_COLUMN_GRANTS\n",
       "Train on Information Schema: def.information_schema ROLE_ROUTINE_GRANTS\n",
       "Train on Information Schema: def.information_schema ROLE_TABLE_GRANTS\n",
       "Train on Information Schema: def.information_schema ROUTINES\n",
       "Train on Information Schema: def.information_schema SCHEMA_PRIVILEGES\n",
       "Train on Information Schema: def.information_schema SCHEMATA\n",
       "Train on Information Schema: def.information_schema SCHEMATA_EXTENSIONS\n",
       "Train on Information Schema: def.information_schema ST_GEOMETRY_COLUMNS\n",
       "Train on Information Schema: def.information_schema ST_SPATIAL_REFERENCE_SYSTEMS\n",
       "Train on Information Schema: def.information_schema ST_UNITS_OF_MEASURE\n",
       "Train on Information Schema: def.information_schema STATISTICS\n",
       "Train on Information Schema: def.information_schema TABLE_CONSTRAINTS\n",
       "Train on Information Schema: def.information_schema TABLE_CONSTRAINTS_EXTENSIONS\n",
       "Train on Information Schema: def.information_schema TABLE_PRIVILEGES\n",
       "Train on Information Schema: def.information_schema TABLES\n",
       "Train on Information Schema: def.information_schema TABLES_EXTENSIONS\n",
       "Train on Information Schema: def.information_schema TABLESPACES\n",
       "Train on Information Schema: def.information_schema TABLESPACES_EXTENSIONS\n",
       "Train on Information Schema: def.information_schema TRIGGERS\n",
       "Train on Information Schema: def.information_schema USER_ATTRIBUTES\n",
       "Train on Information Schema: def.information_schema USER_PRIVILEGES\n",
       "Train on Information Schema: def.information_schema VIEW_ROUTINE_USAGE\n",
       "Train on Information Schema: def.information_schema VIEW_TABLE_USAGE\n",
       "Train on Information Schema: def.information_schema VIEWS\n",
       "Train on Information Schema: def.mysql columns_priv\n",
       "Train on Information Schema: def.mysql component\n",
       "Train on Information Schema: def.mysql db\n",
       "Train on Information Schema: def.mysql default_roles\n",
       "Train on Information Schema: def.mysql engine_cost\n",
       "Train on Information Schema: def.mysql func\n",
       "Train on Information Schema: def.mysql general_log\n",
       "Train on Information Schema: def.mysql global_grants\n",
       "Train on Information Schema: def.mysql gtid_executed\n",
       "Train on Information Schema: def.mysql help_category\n",
       "Train on Information Schema: def.mysql help_keyword\n",
       "Train on Information Schema: def.mysql help_relation\n",
       "Train on Information Schema: def.mysql help_topic\n",
       "Train on Information Schema: def.mysql innodb_index_stats\n",
       "Train on Information Schema: def.mysql innodb_table_stats\n",
       "Train on Information Schema: def.mysql ndb_binlog_index\n",
       "Train on Information Schema: def.mysql password_history\n",
       "Train on Information Schema: def.mysql plugin\n",
       "Train on Information Schema: def.mysql procs_priv\n",
       "Train on Information Schema: def.mysql proxies_priv\n",
       "Train on Information Schema: def.mysql replication_asynchronous_connection_failover\n",
       "Train on Information Schema: def.mysql replication_asynchronous_connection_failover_managed\n",
       "Train on Information Schema: def.mysql replication_group_configuration_version\n",
       "Train on Information Schema: def.mysql replication_group_member_actions\n",
       "Train on Information Schema: def.mysql role_edges\n",
       "Train on Information Schema: def.mysql server_cost\n",
       "Train on Information Schema: def.mysql servers\n",
       "Train on Information Schema: def.mysql slave_master_info\n",
       "Train on Information Schema: def.mysql slave_relay_log_info\n",
       "Train on Information Schema: def.mysql slave_worker_info\n",
       "Train on Information Schema: def.mysql slow_log\n",
       "Train on Information Schema: def.mysql tables_priv\n",
       "Train on Information Schema: def.mysql time_zone\n",
       "Train on Information Schema: def.mysql time_zone_leap_second\n",
       "Train on Information Schema: def.mysql time_zone_name\n",
       "Train on Information Schema: def.mysql time_zone_transition\n",
       "Train on Information Schema: def.mysql time_zone_transition_type\n",
       "Train on Information Schema: def.mysql user\n",
       "Train on Information Schema: def.performance_schema accounts\n",
       "Train on Information Schema: def.performance_schema binary_log_transaction_compression_stats\n",
       "Train on Information Schema: def.performance_schema cond_instances\n",
       "Train on Information Schema: def.performance_schema data_lock_waits\n",
       "Train on Information Schema: def.performance_schema data_locks\n",
       "Train on Information Schema: def.performance_schema error_log\n",
       "Train on Information Schema: def.performance_schema events_errors_summary_by_account_by_error\n",
       "Train on Information Schema: def.performance_schema events_errors_summary_by_host_by_error\n",
       "Train on Information Schema: def.performance_schema events_errors_summary_by_thread_by_error\n",
       "Train on Information Schema: def.performance_schema events_errors_summary_by_user_by_error\n",
       "Train on Information Schema: def.performance_schema events_errors_summary_global_by_error\n",
       "Train on Information Schema: def.performance_schema events_stages_current\n",
       "Train on Information Schema: def.performance_schema events_stages_history\n",
       "Train on Information Schema: def.performance_schema events_stages_history_long\n",
       "Train on Information Schema: def.performance_schema events_stages_summary_by_account_by_event_name\n",
       "Train on Information Schema: def.performance_schema events_stages_summary_by_host_by_event_name\n",
       "Train on Information Schema: def.performance_schema events_stages_summary_by_thread_by_event_name\n",
       "Train on Information Schema: def.performance_schema events_stages_summary_by_user_by_event_name\n",
       "Train on Information Schema: def.performance_schema events_stages_summary_global_by_event_name\n",
       "Train on Information Schema: def.performance_schema events_statements_current\n",
       "Train on Information Schema: def.performance_schema events_statements_histogram_by_digest\n",
       "Train on Information Schema: def.performance_schema events_statements_histogram_global\n",
       "Train on Information Schema: def.performance_schema events_statements_history\n",
       "Train on Information Schema: def.performance_schema events_statements_history_long\n",
       "Train on Information Schema: def.performance_schema events_statements_summary_by_account_by_event_name\n",
       "Train on Information Schema: def.performance_schema events_statements_summary_by_digest\n",
       "Train on Information Schema: def.performance_schema events_statements_summary_by_host_by_event_name\n",
       "Train on Information Schema: def.performance_schema events_statements_summary_by_program\n",
       "Train on Information Schema: def.performance_schema events_statements_summary_by_thread_by_event_name\n",
       "Train on Information Schema: def.performance_schema events_statements_summary_by_user_by_event_name\n",
       "Train on Information Schema: def.performance_schema events_statements_summary_global_by_event_name\n",
       "Train on Information Schema: def.performance_schema events_transactions_current\n",
       "Train on Information Schema: def.performance_schema events_transactions_history\n",
       "Train on Information Schema: def.performance_schema events_transactions_history_long\n",
       "Train on Information Schema: def.performance_schema events_transactions_summary_by_account_by_event_name\n",
       "Train on Information Schema: def.performance_schema events_transactions_summary_by_host_by_event_name\n",
       "Train on Information Schema: def.performance_schema events_transactions_summary_by_thread_by_event_name\n",
       "Train on Information Schema: def.performance_schema events_transactions_summary_by_user_by_event_name\n",
       "Train on Information Schema: def.performance_schema events_transactions_summary_global_by_event_name\n",
       "Train on Information Schema: def.performance_schema events_waits_current\n",
       "Train on Information Schema: def.performance_schema events_waits_history\n",
       "Train on Information Schema: def.performance_schema events_waits_history_long\n",
       "Train on Information Schema: def.performance_schema events_waits_summary_by_account_by_event_name\n",
       "Train on Information Schema: def.performance_schema events_waits_summary_by_host_by_event_name\n",
       "Train on Information Schema: def.performance_schema events_waits_summary_by_instance\n",
       "Train on Information Schema: def.performance_schema events_waits_summary_by_thread_by_event_name\n",
       "Train on Information Schema: def.performance_schema events_waits_summary_by_user_by_event_name\n",
       "Train on Information Schema: def.performance_schema events_waits_summary_global_by_event_name\n",
       "Train on Information Schema: def.performance_schema file_instances\n",
       "Train on Information Schema: def.performance_schema file_summary_by_event_name\n",
       "Train on Information Schema: def.performance_schema file_summary_by_instance\n",
       "Train on Information Schema: def.performance_schema global_status\n",
       "Train on Information Schema: def.performance_schema global_variables\n",
       "Train on Information Schema: def.performance_schema host_cache\n",
       "Train on Information Schema: def.performance_schema hosts\n",
       "Train on Information Schema: def.performance_schema innodb_redo_log_files\n",
       "Train on Information Schema: def.performance_schema keyring_component_status\n",
       "Train on Information Schema: def.performance_schema keyring_keys\n",
       "Train on Information Schema: def.performance_schema log_status\n",
       "Train on Information Schema: def.performance_schema memory_summary_by_account_by_event_name\n",
       "Train on Information Schema: def.performance_schema memory_summary_by_host_by_event_name\n",
       "Train on Information Schema: def.performance_schema memory_summary_by_thread_by_event_name\n",
       "Train on Information Schema: def.performance_schema memory_summary_by_user_by_event_name\n",
       "Train on Information Schema: def.performance_schema memory_summary_global_by_event_name\n",
       "Train on Information Schema: def.performance_schema metadata_locks\n",
       "Train on Information Schema: def.performance_schema mutex_instances\n",
       "Train on Information Schema: def.performance_schema objects_summary_global_by_type\n",
       "Train on Information Schema: def.performance_schema performance_timers\n",
       "Train on Information Schema: def.performance_schema persisted_variables\n",
       "Train on Information Schema: def.performance_schema prepared_statements_instances\n",
       "Train on Information Schema: def.performance_schema processlist\n",
       "Train on Information Schema: def.performance_schema replication_applier_configuration\n",
       "Train on Information Schema: def.performance_schema replication_applier_filters\n",
       "Train on Information Schema: def.performance_schema replication_applier_global_filters\n",
       "Train on Information Schema: def.performance_schema replication_applier_status\n",
       "Train on Information Schema: def.performance_schema replication_applier_status_by_coordinator\n",
       "Train on Information Schema: def.performance_schema replication_applier_status_by_worker\n",
       "Train on Information Schema: def.performance_schema replication_asynchronous_connection_failover\n",
       "Train on Information Schema: def.performance_schema replication_asynchronous_connection_failover_managed\n",
       "Train on Information Schema: def.performance_schema replication_connection_configuration\n",
       "Train on Information Schema: def.performance_schema replication_connection_status\n",
       "Train on Information Schema: def.performance_schema replication_group_member_stats\n",
       "Train on Information Schema: def.performance_schema replication_group_members\n",
       "Train on Information Schema: def.performance_schema rwlock_instances\n",
       "Train on Information Schema: def.performance_schema session_account_connect_attrs\n",
       "Train on Information Schema: def.performance_schema session_connect_attrs\n",
       "Train on Information Schema: def.performance_schema session_status\n",
       "Train on Information Schema: def.performance_schema session_variables\n",
       "Train on Information Schema: def.performance_schema setup_actors\n",
       "Train on Information Schema: def.performance_schema setup_consumers\n",
       "Train on Information Schema: def.performance_schema setup_instruments\n",
       "Train on Information Schema: def.performance_schema setup_objects\n",
       "Train on Information Schema: def.performance_schema setup_threads\n",
       "Train on Information Schema: def.performance_schema socket_instances\n",
       "Train on Information Schema: def.performance_schema socket_summary_by_event_name\n",
       "Train on Information Schema: def.performance_schema socket_summary_by_instance\n",
       "Train on Information Schema: def.performance_schema status_by_account\n",
       "Train on Information Schema: def.performance_schema status_by_host\n",
       "Train on Information Schema: def.performance_schema status_by_thread\n",
       "Train on Information Schema: def.performance_schema status_by_user\n",
       "Train on Information Schema: def.performance_schema table_handles\n",
       "Train on Information Schema: def.performance_schema table_io_waits_summary_by_index_usage\n",
       "Train on Information Schema: def.performance_schema table_io_waits_summary_by_table\n",
       "Train on Information Schema: def.performance_schema table_lock_waits_summary_by_table\n",
       "Train on Information Schema: def.performance_schema threads\n",
       "Train on Information Schema: def.performance_schema tls_channel_status\n",
       "Train on Information Schema: def.performance_schema user_defined_functions\n",
       "Train on Information Schema: def.performance_schema user_variables_by_thread\n",
       "Train on Information Schema: def.performance_schema users\n",
       "Train on Information Schema: def.performance_schema variables_by_thread\n",
       "Train on Information Schema: def.performance_schema variables_info\n",
       "Train on Information Schema: def.sys host_summary\n",
       "Train on Information Schema: def.sys host_summary_by_file_io\n",
       "Train on Information Schema: def.sys host_summary_by_file_io_type\n",
       "Train on Information Schema: def.sys host_summary_by_stages\n",
       "Train on Information Schema: def.sys host_summary_by_statement_latency\n",
       "Train on Information Schema: def.sys host_summary_by_statement_type\n",
       "Train on Information Schema: def.sys innodb_buffer_stats_by_schema\n",
       "Train on Information Schema: def.sys innodb_buffer_stats_by_table\n",
       "Train on Information Schema: def.sys innodb_lock_waits\n",
       "Train on Information Schema: def.sys io_by_thread_by_latency\n",
       "Train on Information Schema: def.sys io_global_by_file_by_bytes\n",
       "Train on Information Schema: def.sys io_global_by_file_by_latency\n",
       "Train on Information Schema: def.sys io_global_by_wait_by_bytes\n",
       "Train on Information Schema: def.sys io_global_by_wait_by_latency\n",
       "Train on Information Schema: def.sys latest_file_io\n",
       "Train on Information Schema: def.sys memory_by_host_by_current_bytes\n",
       "Train on Information Schema: def.sys memory_by_thread_by_current_bytes\n",
       "Train on Information Schema: def.sys memory_by_user_by_current_bytes\n",
       "Train on Information Schema: def.sys memory_global_by_current_bytes\n",
       "Train on Information Schema: def.sys memory_global_total\n",
       "Train on Information Schema: def.sys metrics\n",
       "Train on Information Schema: def.sys processlist\n",
       "Train on Information Schema: def.sys ps_check_lost_instrumentation\n",
       "Train on Information Schema: def.sys schema_auto_increment_columns\n",
       "Train on Information Schema: def.sys schema_index_statistics\n",
       "Train on Information Schema: def.sys schema_object_overview\n",
       "Train on Information Schema: def.sys schema_redundant_indexes\n",
       "Train on Information Schema: def.sys schema_table_lock_waits\n",
       "Train on Information Schema: def.sys schema_table_statistics\n",
       "Train on Information Schema: def.sys schema_table_statistics_with_buffer\n",
       "Train on Information Schema: def.sys schema_tables_with_full_table_scans\n",
       "Train on Information Schema: def.sys schema_unused_indexes\n",
       "Train on Information Schema: def.sys session\n",
       "Train on Information Schema: def.sys session_ssl_status\n",
       "Train on Information Schema: def.sys statement_analysis\n",
       "Train on Information Schema: def.sys statements_with_errors_or_warnings\n",
       "Train on Information Schema: def.sys statements_with_full_table_scans\n",
       "Train on Information Schema: def.sys statements_with_runtimes_in_95th_percentile\n",
       "Train on Information Schema: def.sys statements_with_sorting\n",
       "Train on Information Schema: def.sys statements_with_temp_tables\n",
       "Train on Information Schema: def.sys sys_config\n",
       "Train on Information Schema: def.sys user_summary\n",
       "Train on Information Schema: def.sys user_summary_by_file_io\n",
       "Train on Information Schema: def.sys user_summary_by_file_io_type\n",
       "Train on Information Schema: def.sys user_summary_by_stages\n",
       "Train on Information Schema: def.sys user_summary_by_statement_latency\n",
       "Train on Information Schema: def.sys user_summary_by_statement_type\n",
       "Train on Information Schema: def.sys version\n",
       "Train on Information Schema: def.sys wait_classes_global_by_avg_latency\n",
       "Train on Information Schema: def.sys wait_classes_global_by_latency\n",
       "Train on Information Schema: def.sys waits_by_host_by_latency\n",
       "Train on Information Schema: def.sys waits_by_user_by_latency\n",
       "Train on Information Schema: def.sys waits_global_by_latency\n",
       "Train on Information Schema: def.sys x$host_summary\n",
       "Train on Information Schema: def.sys x$host_summary_by_file_io\n",
       "Train on Information Schema: def.sys x$host_summary_by_file_io_type\n",
       "Train on Information Schema: def.sys x$host_summary_by_stages\n",
       "Train on Information Schema: def.sys x$host_summary_by_statement_latency\n",
       "Train on Information Schema: def.sys x$host_summary_by_statement_type\n",
       "Train on Information Schema: def.sys x$innodb_buffer_stats_by_schema\n",
       "Train on Information Schema: def.sys x$innodb_buffer_stats_by_table\n",
       "Train on Information Schema: def.sys x$innodb_lock_waits\n",
       "Train on Information Schema: def.sys x$io_by_thread_by_latency\n",
       "Train on Information Schema: def.sys x$io_global_by_file_by_bytes\n",
       "Train on Information Schema: def.sys x$io_global_by_file_by_latency\n",
       "Train on Information Schema: def.sys x$io_global_by_wait_by_bytes\n",
       "Train on Information Schema: def.sys x$io_global_by_wait_by_latency\n",
       "Train on Information Schema: def.sys x$latest_file_io\n",
       "Train on Information Schema: def.sys x$memory_by_host_by_current_bytes\n",
       "Train on Information Schema: def.sys x$memory_by_thread_by_current_bytes\n",
       "Train on Information Schema: def.sys x$memory_by_user_by_current_bytes\n",
       "Train on Information Schema: def.sys x$memory_global_by_current_bytes\n",
       "Train on Information Schema: def.sys x$memory_global_total\n",
       "Train on Information Schema: def.sys x$processlist\n",
       "Train on Information Schema: def.sys x$ps_digest_95th_percentile_by_avg_us\n",
       "Train on Information Schema: def.sys x$ps_digest_avg_latency_distribution\n",
       "Train on Information Schema: def.sys x$ps_schema_table_statistics_io\n",
       "Train on Information Schema: def.sys x$schema_flattened_keys\n",
       "Train on Information Schema: def.sys x$schema_index_statistics\n",
       "Train on Information Schema: def.sys x$schema_table_lock_waits\n",
       "Train on Information Schema: def.sys x$schema_table_statistics\n",
       "Train on Information Schema: def.sys x$schema_table_statistics_with_buffer\n",
       "Train on Information Schema: def.sys x$schema_tables_with_full_table_scans\n",
       "Train on Information Schema: def.sys x$session\n",
       "Train on Information Schema: def.sys x$statement_analysis\n",
       "Train on Information Schema: def.sys x$statements_with_errors_or_warnings\n",
       "Train on Information Schema: def.sys x$statements_with_full_table_scans\n",
       "Train on Information Schema: def.sys x$statements_with_runtimes_in_95th_percentile\n",
       "Train on Information Schema: def.sys x$statements_with_sorting\n",
       "Train on Information Schema: def.sys x$statements_with_temp_tables\n",
       "Train on Information Schema: def.sys x$user_summary\n",
       "Train on Information Schema: def.sys x$user_summary_by_file_io\n",
       "Train on Information Schema: def.sys x$user_summary_by_file_io_type\n",
       "Train on Information Schema: def.sys x$user_summary_by_stages\n",
       "Train on Information Schema: def.sys x$user_summary_by_statement_latency\n",
       "Train on Information Schema: def.sys x$user_summary_by_statement_type\n",
       "Train on Information Schema: def.sys x$wait_classes_global_by_avg_latency\n",
       "Train on Information Schema: def.sys x$wait_classes_global_by_latency\n",
       "Train on Information Schema: def.sys x$waits_by_host_by_latency\n",
       "Train on Information Schema: def.sys x$waits_by_user_by_latency\n",
       "Train on Information Schema: def.sys x$waits_global_by_latency\n",
       "Train on Information Schema: def.test atation_count1\n",
       "Train on Information Schema: def.test breakdown\n",
       "Train on Information Schema: def.test breakdown_acknowledgement\n",
       "Train on Information Schema: def.test calibration\n",
       "Train on Information Schema: def.test cycle_time\n",
       "Train on Information Schema: def.test dpms_cycle_time\n",
       "Train on Information Schema: def.test dpms_data\n",
       "Train on Information Schema: def.test dpms_home\n",
       "Train on Information Schema: def.test dpms_oee_overall\n",
       "Train on Information Schema: def.test dpms_poke_yoke\n",
       "Train on Information Schema: def.test dpms_rej_mon\n",
       "Train on Information Schema: def.test dpms_shift_plan\n",
       "Train on Information Schema: def.test driveassy\n",
       "Train on Information Schema: def.test driveassy_bkup\n",
       "Train on Information Schema: def.test goal\n",
       "Train on Information Schema: def.test grs_foa\n",
       "Train on Information Schema: def.test home1\n",
       "Train on Information Schema: def.test home_storage\n",
       "Train on Information Schema: def.test hourly_storage\n",
       "Train on Information Schema: def.test ideal_reason\n",
       "Train on Information Schema: def.test incomplete_packing\n",
       "Train on Information Schema: def.test lastid\n",
       "Train on Information Schema: def.test lastno\n",
       "Train on Information Schema: def.test line3db\n",
       "Train on Information Schema: def.test line3dbbkup\n",
       "Train on Information Schema: def.test m_difference\n",
       "Train on Information Schema: def.test machine_breakdown_acknowledgement\n",
       "Train on Information Schema: def.test msil_db\n",
       "Train on Information Schema: def.test noise_data\n",
       "Train on Information Schema: def.test noise_difference\n",
       "Train on Information Schema: def.test noise_fail_db\n",
       "Train on Information Schema: def.test noisedb\n",
       "Train on Information Schema: def.test noisedbbkup\n",
       "Train on Information Schema: def.test oee_overall_storage\n",
       "Train on Information Schema: def.test opid\n",
       "Train on Information Schema: def.test packing\n",
       "Train on Information Schema: def.test poke_yoke_storage\n",
       "Train on Information Schema: def.test ptr_difference\n",
       "Train on Information Schema: def.test ptrdb\n",
       "Train on Information Schema: def.test ptrdbbkup\n",
       "Train on Information Schema: def.test py_data\n",
       "Train on Information Schema: def.test rej_mon_storage\n",
       "Train on Information Schema: def.test shift_details_storage\n",
       "Train on Information Schema: def.test shift_details_storage1\n",
       "Train on Information Schema: def.test spc_lvdt_storage\n",
       "Train on Information Schema: def.test spc_master\n",
       "Train on Information Schema: def.test spc_master1\n",
       "Train on Information Schema: def.test spc_storage\n",
       "Train on Information Schema: def.test spc_storage1\n",
       "Train on Information Schema: def.test station_count\n",
       "Train on Information Schema: def.test station_count1\n",
       "Train on Information Schema: def.test station_count_new1\n",
       "Train on Information Schema: def.test station_master\n",
       "Train on Information Schema: def.test station_oee\n",
       "Train on Information Schema: def.test sys_line\n",
       "Train on Information Schema: def.test sys_line_copy\n",
       "Train on Information Schema: def.test time_differences\n",
       "Train on Information Schema: def.test tooldata\n",
       "Train on Information Schema: def.test tooldata1\n",
       "Train on Information Schema: def.test toolhistory\n",
       "Train on Information Schema: def.test trace\n",
       "Train on Information Schema: def.test trail\n",
       "Train on Information Schema: def.test1 breakdown\n",
       "Train on Information Schema: def.test1 calibration\n",
       "Train on Information Schema: def.test1 calibration_old\n",
       "Train on Information Schema: def.test1 clralrmlr_folder_dtls\n",
       "Train on Information Schema: def.test1 cost_per_unit_inputdata\n",
       "Train on Information Schema: def.test1 cost_per_unit_outputdata\n",
       "Train on Information Schema: def.test1 cost_per_unit_outputdata1\n",
       "Train on Information Schema: def.test1 cost_per_unit_storage\n",
       "Train on Information Schema: def.test1 cost_per_unit_storage1\n",
       "Train on Information Schema: def.test1 cpun\n",
       "Train on Information Schema: def.test1 cycle_time\n",
       "Train on Information Schema: def.test1 cycle_time_n\n",
       "Train on Information Schema: def.test1 data\n",
       "Train on Information Schema: def.test1 diff\n",
       "Train on Information Schema: def.test1 driveassy\n",
       "Train on Information Schema: def.test1 driveassy_old\n",
       "Train on Information Schema: def.test1 driveassy_recent\n",
       "Train on Information Schema: def.test1 driveassy_recent_copy\n",
       "Train on Information Schema: def.test1 driveassye\n",
       "Train on Information Schema: def.test1 eandon\n",
       "Train on Information Schema: def.test1 faultcodelist\n",
       "Train on Information Schema: def.test1 finaldb\n",
       "Train on Information Schema: def.test1 home_storage\n",
       "Train on Information Schema: def.test1 hourly\n",
       "Train on Information Schema: def.test1 hourly_production_rate\n",
       "Train on Information Schema: def.test1 hourly_storage\n",
       "Train on Information Schema: def.test1 hourlydataset\n",
       "Train on Information Schema: def.test1 hourlydb\n",
       "Train on Information Schema: def.test1 ideal\n",
       "Train on Information Schema: def.test1 ideal_reason\n",
       "Train on Information Schema: def.test1 indicate_status\n",
       "Train on Information Schema: def.test1 instrument_calibration\n",
       "Train on Information Schema: def.test1 lastno\n",
       "Train on Information Schema: def.test1 line1db\n",
       "Train on Information Schema: def.test1 line1dbbkup\n",
       "Train on Information Schema: def.test1 line1dbbkupold\n",
       "Train on Information Schema: def.test1 line3db\n",
       "Train on Information Schema: def.test1 line3db_recent\n",
       "Train on Information Schema: def.test1 m_difference\n",
       "Train on Information Schema: def.test1 machine_breakdown_acknowledgement\n",
       "Train on Information Schema: def.test1 machine_matrix\n",
       "Train on Information Schema: def.test1 master_fault_code_list\n",
       "Train on Information Schema: def.test1 mfg_cost_breakup\n",
       "Train on Information Schema: def.test1 mfg_cost_storage\n",
       "Train on Information Schema: def.test1 noise_difference\n",
       "Train on Information Schema: def.test1 noisedb\n",
       "Train on Information Schema: def.test1 noisedb_copy\n",
       "Train on Information Schema: def.test1 noisedb_recent\n",
       "Train on Information Schema: def.test1 noisedbbkup\n",
       "Train on Information Schema: def.test1 noisedbe\n",
       "Train on Information Schema: def.test1 oee_overall_storage\n",
       "Train on Information Schema: def.test1 operator_details\n",
       "Train on Information Schema: def.test1 opid\n",
       "Train on Information Schema: def.test1 outputdata\n",
       "Train on Information Schema: def.test1 part_details\n",
       "Train on Information Schema: def.test1 ptr_difference\n",
       "Train on Information Schema: def.test1 ptrdb\n",
       "Train on Information Schema: def.test1 ptrdb_copy\n",
       "Train on Information Schema: def.test1 ptrdb_new\n",
       "Train on Information Schema: def.test1 ptrdb_recent\n",
       "Train on Information Schema: def.test1 ptrdbbkup\n",
       "Train on Information Schema: def.test1 ptrdbe\n",
       "Train on Information Schema: def.test1 py\n",
       "Train on Information Schema: def.test1 rej_mon_storage\n",
       "Train on Information Schema: def.test1 shift_details_storage\n",
       "Train on Information Schema: def.test1 shift_plan\n",
       "Train on Information Schema: def.test1 shiftdetails\n",
       "Train on Information Schema: def.test1 smsemailmaster\n",
       "Train on Information Schema: def.test1 sop\n",
       "Train on Information Schema: def.test1 spc_lvdt_storage\n",
       "Train on Information Schema: def.test1 spc_storage\n",
       "Train on Information Schema: def.test1 station_header\n",
       "Train on Information Schema: def.test1 station_header_inter\n",
       "Train on Information Schema: def.test1 station_header_mrtmp\n",
       "Train on Information Schema: def.test1 station_header_tmp1\n",
       "Train on Information Schema: def.test1 test_table\n",
       "Train on Information Schema: def.test1 thrustassy\n",
       "Train on Information Schema: def.test1 thrustassy_old\n",
       "Train on Information Schema: def.test1 time\n",
       "Train on Information Schema: def.test1 time_differences\n",
       "Train on Information Schema: def.test1 tool_master_list\n",
       "Train on Information Schema: def.test1 tool_monitoring\n",
       "Train on Information Schema: def.test1 tooldata1\n",
       "Train on Information Schema: def.test1 toolhistory\n",
       "Train on Information Schema: def.test1 toollifecyclesystem\n",
       "Train on Information Schema: def.test1 toolmasterlist\n",
       "Train on Information Schema: def.test1 trial\n",
       "Train on Information Schema: def.test1 trial1\n",
       "Train on Information Schema: def.test1 try\n",
       "Train on Information Schema: def.test1 user_menu_access\n",
       "Train on Information Schema: def.test1 user_profile\n",
       "Train on Information Schema: def.vision_db assembly\n",
       "Train on Information Schema: def.vision_db attempts\n",
       "Train on Information Schema: def.vision_db attempts_cycle\n",
       "Train on Information Schema: def.vision_db bio_data\n",
       "Train on Information Schema: def.vision_db cycle\n",
       "Train on Information Schema: def.vision_db examine_details\n",
       "Train on Information Schema: def.vision_db memory_details\n",
       "Train on Information Schema: def.vision_db registration\n",
       "Train on Information Schema: def.vision_db tasks\n",
       "Train on Information Schema: def.vision_db tasks_cycle\n",
       "Train on Information Schema: def.vision_db vision_db"
      ]
     },
     "execution_count": 33,
     "metadata": {},
     "output_type": "execute_result"
    }
   ],
   "source": [
    "df_information_schema = vn.run_sql(\"SELECT * FROM INFORMATION_SCHEMA.COLUMNS\")\n",
    "\n",
    "# This will break up the information schema into bite-sized chunks that can be referenced by the LLM\n",
    "plan = vn.get_training_plan_generic(df_information_schema)\n",
    "plan\n"
   ]
  },
  {
   "cell_type": "code",
   "execution_count": 34,
   "metadata": {},
   "outputs": [
    {
     "ename": "Exception",
     "evalue": "('Error adding documentation', {'error': {'code': -32600, 'message': 'User airsmokker@gmail.com not in model greatmodelllm2'}, 'jsonrpc': '2.0'})",
     "output_type": "error",
     "traceback": [
      "\u001b[1;31m---------------------------------------------------------------------------\u001b[0m",
      "\u001b[1;31mException\u001b[0m                                 Traceback (most recent call last)",
      "Cell \u001b[1;32mIn[34], line 1\u001b[0m\n\u001b[1;32m----> 1\u001b[0m \u001b[43mvn\u001b[49m\u001b[38;5;241;43m.\u001b[39;49m\u001b[43mtrain\u001b[49m\u001b[43m(\u001b[49m\u001b[43mplan\u001b[49m\u001b[38;5;241;43m=\u001b[39;49m\u001b[43mplan\u001b[49m\u001b[43m)\u001b[49m\n",
      "File \u001b[1;32mc:\\Users\\LTVS LINE-4\\AppData\\Local\\Programs\\Python\\Python310\\lib\\site-packages\\vanna\\base\\base.py:1830\u001b[0m, in \u001b[0;36mVannaBase.train\u001b[1;34m(self, question, sql, ddl, documentation, plan)\u001b[0m\n\u001b[0;32m   1828\u001b[0m     \u001b[38;5;28mself\u001b[39m\u001b[38;5;241m.\u001b[39madd_ddl(item\u001b[38;5;241m.\u001b[39mitem_value)\n\u001b[0;32m   1829\u001b[0m \u001b[38;5;28;01melif\u001b[39;00m item\u001b[38;5;241m.\u001b[39mitem_type \u001b[38;5;241m==\u001b[39m TrainingPlanItem\u001b[38;5;241m.\u001b[39mITEM_TYPE_IS:\n\u001b[1;32m-> 1830\u001b[0m     \u001b[38;5;28;43mself\u001b[39;49m\u001b[38;5;241;43m.\u001b[39;49m\u001b[43madd_documentation\u001b[49m\u001b[43m(\u001b[49m\u001b[43mitem\u001b[49m\u001b[38;5;241;43m.\u001b[39;49m\u001b[43mitem_value\u001b[49m\u001b[43m)\u001b[49m\n\u001b[0;32m   1831\u001b[0m \u001b[38;5;28;01melif\u001b[39;00m item\u001b[38;5;241m.\u001b[39mitem_type \u001b[38;5;241m==\u001b[39m TrainingPlanItem\u001b[38;5;241m.\u001b[39mITEM_TYPE_SQL:\n\u001b[0;32m   1832\u001b[0m     \u001b[38;5;28mself\u001b[39m\u001b[38;5;241m.\u001b[39madd_question_sql(question\u001b[38;5;241m=\u001b[39mitem\u001b[38;5;241m.\u001b[39mitem_name, sql\u001b[38;5;241m=\u001b[39mitem\u001b[38;5;241m.\u001b[39mitem_value)\n",
      "File \u001b[1;32mc:\\Users\\LTVS LINE-4\\AppData\\Local\\Programs\\Python\\Python310\\lib\\site-packages\\vanna\\vannadb\\vannadb_vector.py:326\u001b[0m, in \u001b[0;36mVannaDB_VectorStore.add_documentation\u001b[1;34m(self, documentation, **kwargs)\u001b[0m\n\u001b[0;32m    323\u001b[0m d \u001b[38;5;241m=\u001b[39m \u001b[38;5;28mself\u001b[39m\u001b[38;5;241m.\u001b[39m_rpc_call(method\u001b[38;5;241m=\u001b[39m\u001b[38;5;124m\"\u001b[39m\u001b[38;5;124madd_documentation\u001b[39m\u001b[38;5;124m\"\u001b[39m, params\u001b[38;5;241m=\u001b[39mparams)\n\u001b[0;32m    325\u001b[0m \u001b[38;5;28;01mif\u001b[39;00m \u001b[38;5;124m\"\u001b[39m\u001b[38;5;124mresult\u001b[39m\u001b[38;5;124m\"\u001b[39m \u001b[38;5;129;01mnot\u001b[39;00m \u001b[38;5;129;01min\u001b[39;00m d:\n\u001b[1;32m--> 326\u001b[0m     \u001b[38;5;28;01mraise\u001b[39;00m \u001b[38;5;167;01mException\u001b[39;00m(\u001b[38;5;124m\"\u001b[39m\u001b[38;5;124mError adding documentation\u001b[39m\u001b[38;5;124m\"\u001b[39m, d)\n\u001b[0;32m    328\u001b[0m status \u001b[38;5;241m=\u001b[39m StatusWithId(\u001b[38;5;241m*\u001b[39m\u001b[38;5;241m*\u001b[39md[\u001b[38;5;124m\"\u001b[39m\u001b[38;5;124mresult\u001b[39m\u001b[38;5;124m\"\u001b[39m])\n\u001b[0;32m    330\u001b[0m \u001b[38;5;28;01mreturn\u001b[39;00m status\u001b[38;5;241m.\u001b[39mid\n",
      "\u001b[1;31mException\u001b[0m: ('Error adding documentation', {'error': {'code': -32600, 'message': 'User airsmokker@gmail.com not in model greatmodelllm2'}, 'jsonrpc': '2.0'})"
     ]
    }
   ],
   "source": [
    "vn.train(plan=plan)"
   ]
  },
  {
   "cell_type": "code",
   "execution_count": 15,
   "metadata": {},
   "outputs": [
    {
     "name": "stdout",
     "output_type": "stream",
     "text": [
      "Adding documentation....\n"
     ]
    },
    {
     "ename": "Exception",
     "evalue": "('Error adding documentation', {'error': {'code': -32600, 'message': 'Invalid Request: No email'}, 'jsonrpc': '2.0'})",
     "output_type": "error",
     "traceback": [
      "\u001b[1;31m---------------------------------------------------------------------------\u001b[0m",
      "\u001b[1;31mException\u001b[0m                                 Traceback (most recent call last)",
      "Cell \u001b[1;32mIn[15], line 1\u001b[0m\n\u001b[1;32m----> 1\u001b[0m \u001b[43mvn\u001b[49m\u001b[38;5;241;43m.\u001b[39;49m\u001b[43mtrain\u001b[49m\u001b[43m(\u001b[49m\u001b[43mdocumentation\u001b[49m\u001b[38;5;241;43m=\u001b[39;49m\n\u001b[0;32m      2\u001b[0m \u001b[38;5;124;43;03m\"\"\"\u001b[39;49;00m\n\u001b[0;32m      3\u001b[0m \u001b[38;5;124;43;03mThis database includes several tables to track and evaluate trainee performance.  \u001b[39;49;00m\n\u001b[0;32m      4\u001b[0m \u001b[38;5;124;43;03mIt stores trainee details, attempts, assigned tasks, signatures, and evaluation summaries  \u001b[39;49;00m\n\u001b[0;32m      5\u001b[0m \u001b[38;5;124;43;03mto assess skill levels and progress in a structured manner.\u001b[39;49;00m\n\u001b[0;32m      6\u001b[0m \u001b[38;5;124;43;03m\"\"\"\u001b[39;49;00m\n\u001b[0;32m      7\u001b[0m \u001b[43m)\u001b[49m\n",
      "File \u001b[1;32mc:\\Users\\LTVS LINE-4\\AppData\\Local\\Programs\\Python\\Python310\\lib\\site-packages\\vanna\\base\\base.py:1813\u001b[0m, in \u001b[0;36mVannaBase.train\u001b[1;34m(self, question, sql, ddl, documentation, plan)\u001b[0m\n\u001b[0;32m   1811\u001b[0m \u001b[38;5;28;01mif\u001b[39;00m documentation:\n\u001b[0;32m   1812\u001b[0m     \u001b[38;5;28mprint\u001b[39m(\u001b[38;5;124m\"\u001b[39m\u001b[38;5;124mAdding documentation....\u001b[39m\u001b[38;5;124m\"\u001b[39m)\n\u001b[1;32m-> 1813\u001b[0m     \u001b[38;5;28;01mreturn\u001b[39;00m \u001b[38;5;28;43mself\u001b[39;49m\u001b[38;5;241;43m.\u001b[39;49m\u001b[43madd_documentation\u001b[49m\u001b[43m(\u001b[49m\u001b[43mdocumentation\u001b[49m\u001b[43m)\u001b[49m\n\u001b[0;32m   1815\u001b[0m \u001b[38;5;28;01mif\u001b[39;00m sql:\n\u001b[0;32m   1816\u001b[0m     \u001b[38;5;28;01mif\u001b[39;00m question \u001b[38;5;129;01mis\u001b[39;00m \u001b[38;5;28;01mNone\u001b[39;00m:\n",
      "File \u001b[1;32mc:\\Users\\LTVS LINE-4\\AppData\\Local\\Programs\\Python\\Python310\\lib\\site-packages\\vanna\\vannadb\\vannadb_vector.py:326\u001b[0m, in \u001b[0;36mVannaDB_VectorStore.add_documentation\u001b[1;34m(self, documentation, **kwargs)\u001b[0m\n\u001b[0;32m    323\u001b[0m d \u001b[38;5;241m=\u001b[39m \u001b[38;5;28mself\u001b[39m\u001b[38;5;241m.\u001b[39m_rpc_call(method\u001b[38;5;241m=\u001b[39m\u001b[38;5;124m\"\u001b[39m\u001b[38;5;124madd_documentation\u001b[39m\u001b[38;5;124m\"\u001b[39m, params\u001b[38;5;241m=\u001b[39mparams)\n\u001b[0;32m    325\u001b[0m \u001b[38;5;28;01mif\u001b[39;00m \u001b[38;5;124m\"\u001b[39m\u001b[38;5;124mresult\u001b[39m\u001b[38;5;124m\"\u001b[39m \u001b[38;5;129;01mnot\u001b[39;00m \u001b[38;5;129;01min\u001b[39;00m d:\n\u001b[1;32m--> 326\u001b[0m     \u001b[38;5;28;01mraise\u001b[39;00m \u001b[38;5;167;01mException\u001b[39;00m(\u001b[38;5;124m\"\u001b[39m\u001b[38;5;124mError adding documentation\u001b[39m\u001b[38;5;124m\"\u001b[39m, d)\n\u001b[0;32m    328\u001b[0m status \u001b[38;5;241m=\u001b[39m StatusWithId(\u001b[38;5;241m*\u001b[39m\u001b[38;5;241m*\u001b[39md[\u001b[38;5;124m\"\u001b[39m\u001b[38;5;124mresult\u001b[39m\u001b[38;5;124m\"\u001b[39m])\n\u001b[0;32m    330\u001b[0m \u001b[38;5;28;01mreturn\u001b[39;00m status\u001b[38;5;241m.\u001b[39mid\n",
      "\u001b[1;31mException\u001b[0m: ('Error adding documentation', {'error': {'code': -32600, 'message': 'Invalid Request: No email'}, 'jsonrpc': '2.0'})"
     ]
    }
   ],
   "source": [
    "vn.train(documentation=\n",
    "\"\"\"\n",
    "This database includes several tables to track and evaluate trainee performance.  \n",
    "It stores trainee details, attempts, assigned tasks, signatures, and evaluation summaries  \n",
    "to assess skill levels and progress in a structured manner.\n",
    "\"\"\"\n",
    ")"
   ]
  },
  {
   "cell_type": "code",
   "execution_count": null,
   "metadata": {},
   "outputs": [
    {
     "name": "stdout",
     "output_type": "stream",
     "text": [
      "Adding ddl: \n",
      "    CREATE TABLE cycle (\n",
      "    Task_id INT AUTO_INCREMENT PRIMARY KEY,\n",
      "    cc_no VARCHAR(255),\n",
      "    dct VARCHAR(255),\n",
      "    actual_score VARCHAR(255),\n",
      "    remarks VARCHAR(255),\n",
      "    demo_line_captain VARCHAR(100),\n",
      "    demo_trainee VARCHAR(100),\n",
      "    skill_matrix VARCHAR(100),\n",
      "    cycle_achievementt VARCHAR(100),\n",
      "    sign_by_trainee LONGTEXT,\n",
      "    sign_by_line_captain VARCHAR(255),\n",
      "    sign_by_module_controller VARCHAR(255),\n",
      "    attempt VARCHAR(100),\n",
      "    cycle_time VARCHAR(100),\n",
      "    mistakes VARCHAR(100),\n",
      "    created_at TIMESTAMP DEFAULT CURRENT_TIMESTAMP,\n",
      "    updated_at TIMESTAMP DEFAULT CURRENT_TIMESTAMP ON UPDATE CURRENT_TIMESTAMP,\n",
      "    status_ VARCHAR(100),\n",
      "    process_name VARCHAR(100),\n",
      "    date VARCHAR(100)\n",
      ")\n",
      "\n"
     ]
    },
    {
     "data": {
      "text/plain": [
       "'5166805-ddl'"
      ]
     },
     "execution_count": 16,
     "metadata": {},
     "output_type": "execute_result"
    }
   ],
   "source": [
    "vn.train(ddl=\"\"\"\n",
    "    CREATE TABLE tasks_cycle (\n",
    "    task_id INT AUTO_INCREMENT PRIMARY KEY,\n",
    "    cc_no VARCHAR(255),\n",
    "    station_name VARCHAR(255),\n",
    "    dct VARCHAR(255),\n",
    "    status_ VARCHAR(255),\n",
    "    remarks TEXT,\n",
    "    date_ VARCHAR(255),\n",
    "    attempt VARCHAR(255),\n",
    "    actual_score VARCHAR(255),\n",
    "    demo_line_captain VARCHAR(255),\n",
    "    demo_trainee VARCHAR(255),\n",
    "    cycle_achievement VARCHAR(255),\n",
    "    skill_matrix VARCHAR(255),\n",
    "    process_name VARCHAR(255),\n",
    "    signature_by_trainee LONGTEXT,\n",
    "    signature_by_line_caption VARCHAR(255),\n",
    "    signature_by_module_controller VARCHAR(255),\n",
    "    created_at TIMESTAMP DEFAULT CURRENT_TIMESTAMP,\n",
    "    updated_at TIMESTAMP DEFAULT CURRENT_TIMESTAMP ON UPDATE CURRENT_TIMESTAMP,\n",
    "    place VARCHAR(100),\n",
    "    module VARCHAR(100),\n",
    "    cell VARCHAR(100),\n",
    "    title_cycle_process_name VARCHAR(100)\n",
    ")\n",
    "\"\"\")"
   ]
  },
  {
   "cell_type": "code",
   "execution_count": 17,
   "metadata": {},
   "outputs": [
    {
     "name": "stdout",
     "output_type": "stream",
     "text": [
      "Adding ddl: \n",
      "    CREATE TABLE memory_details (\n",
      "    memory_id INT AUTO_INCREMENT PRIMARY KEY,\n",
      "    cc_no VARCHAR(255),\n",
      "    process_name VARCHAR(255),\n",
      "    process_obsevations VARCHAR(255),\n",
      "    attempts VARCHAR(255),\n",
      "    mistakes VARCHAR(255),\n",
      "    heart_test VARCHAR(255),\n",
      "    data_time VARCHAR(255),\n",
      "    status_ VARCHAR(255),\n",
      "    sign_trainee LONGTEXT,\n",
      "    sign_team_leader VARCHAR(255),\n",
      "    remarks VARCHAR(255),\n",
      "    place VARCHAR(100),\n",
      "    module VARCHAR(100),\n",
      "    cell VARCHAR(100),\n",
      "    title_memory_process_name VARCHAR(100)\n",
      ")\n",
      "\n"
     ]
    },
    {
     "data": {
      "text/plain": [
       "'5166806-ddl'"
      ]
     },
     "execution_count": 17,
     "metadata": {},
     "output_type": "execute_result"
    }
   ],
   "source": [
    "vn.train(ddl=\"\"\"\n",
    "    CREATE TABLE memory_details (\n",
    "    memory_id INT AUTO_INCREMENT PRIMARY KEY,\n",
    "    cc_no VARCHAR(255),\n",
    "    process_name VARCHAR(255),\n",
    "    process_obsevations VARCHAR(255),\n",
    "    attempts VARCHAR(255),\n",
    "    mistakes VARCHAR(255),\n",
    "    heart_test VARCHAR(255),\n",
    "    data_time VARCHAR(255),\n",
    "    status_ VARCHAR(255),\n",
    "    sign_trainee LONGTEXT,\n",
    "    sign_team_leader VARCHAR(255),\n",
    "    remarks VARCHAR(255),\n",
    "    place VARCHAR(100),\n",
    "    module VARCHAR(100),\n",
    "    cell VARCHAR(100),\n",
    "    title_memory_process_name VARCHAR(100)\n",
    ")\n",
    "\"\"\")"
   ]
  },
  {
   "cell_type": "code",
   "execution_count": 38,
   "metadata": {},
   "outputs": [
    {
     "name": "stdout",
     "output_type": "stream",
     "text": [
      "Adding ddl: \n",
      "    CREATE TABLE attempts (\n",
      "    attempts_id INT AUTO_INCREMENT PRIMARY KEY,\n",
      "    task_id INT,\n",
      "    attempt_number INT,\n",
      "    pf_status VARCHAR(255),\n",
      "    mistakes VARCHAR(255),\n",
      "    cc_no VARCHAR(100),\n",
      "    status_ VARCHAR(255),\n",
      "    Signature_by_Trainee LONGTEXT,\n",
      "    Signature_by_Process_Coach VARCHAR(255),\n",
      "    Signature_by_Training_Officer VARCHAR(255),\n",
      "    cycle_time VARCHAR(255),\n",
      "    remarks VARCHAR(255),\n",
      "    date VARCHAR(100),\n",
      "    place VARCHAR(100),\n",
      "    BU_table VARCHAR(100)\n",
      ")\n",
      "\n"
     ]
    },
    {
     "data": {
      "text/plain": [
       "'5738801-ddl'"
      ]
     },
     "execution_count": 38,
     "metadata": {},
     "output_type": "execute_result"
    }
   ],
   "source": [
    "# DDL statements \n",
    "vn.train(ddl=\"\"\"\n",
    "    CREATE TABLE attempts (\n",
    "    attempts_id INT AUTO_INCREMENT PRIMARY KEY,\n",
    "    task_id INT,\n",
    "    attempt_number INT,\n",
    "    pf_status VARCHAR(255),\n",
    "    mistakes VARCHAR(255),\n",
    "    cc_no VARCHAR(100),\n",
    "    status_ VARCHAR(255),\n",
    "    Signature_by_Trainee LONGTEXT,\n",
    "    Signature_by_Process_Coach VARCHAR(255),\n",
    "    Signature_by_Training_Officer VARCHAR(255),\n",
    "    cycle_time VARCHAR(255),\n",
    "    remarks VARCHAR(255),\n",
    "    date VARCHAR(100),\n",
    "    place VARCHAR(100),\n",
    "    BU_table VARCHAR(100)\n",
    ")\n",
    "\"\"\")"
   ]
  },
  {
   "cell_type": "code",
   "execution_count": 39,
   "metadata": {},
   "outputs": [
    {
     "name": "stdout",
     "output_type": "stream",
     "text": [
      "Adding ddl: \n",
      "    CREATE TABLE examine_details (\n",
      "    si_no INT AUTO_INCREMENT PRIMARY KEY,\n",
      "    topics VARCHAR(255),\n",
      "    cc_no VARCHAR(100),\n",
      "    actual_score VARCHAR(255),\n",
      "    status_ VARCHAR(255),\n",
      "    sign_by_trainee LONGTEXT,\n",
      "    sign_by_training_officer LONGTEXT,\n",
      "    Remarks VARCHAR(255),\n",
      "    date VARCHAR(100),\n",
      "    place VARCHAR(100),\n",
      "    faculty_name VARCHAR(100),\n",
      "    day_one VARCHAR(100),\n",
      "    day_two VARCHAR(100),\n",
      "    day_three VARCHAR(100),\n",
      "    entry_date VARCHAR(100)\n",
      ")\n",
      "\n"
     ]
    },
    {
     "data": {
      "text/plain": [
       "'5739027-ddl'"
      ]
     },
     "execution_count": 39,
     "metadata": {},
     "output_type": "execute_result"
    }
   ],
   "source": [
    "# DDL statements \n",
    "vn.train(ddl=\"\"\"\n",
    "    CREATE TABLE examine_details (\n",
    "    si_no INT AUTO_INCREMENT PRIMARY KEY,\n",
    "    topics VARCHAR(255),\n",
    "    cc_no VARCHAR(100),\n",
    "    actual_score VARCHAR(255),\n",
    "    status_ VARCHAR(255),\n",
    "    sign_by_trainee LONGTEXT,\n",
    "    sign_by_training_officer LONGTEXT,\n",
    "    Remarks VARCHAR(255),\n",
    "    date VARCHAR(100),\n",
    "    place VARCHAR(100),\n",
    "    faculty_name VARCHAR(100),\n",
    "    day_one VARCHAR(100),\n",
    "    day_two VARCHAR(100),\n",
    "    day_three VARCHAR(100),\n",
    "    entry_date VARCHAR(100)\n",
    ")\n",
    "\"\"\")"
   ]
  },
  {
   "cell_type": "code",
   "execution_count": 15,
   "metadata": {},
   "outputs": [
    {
     "name": "stdout",
     "output_type": "stream",
     "text": [
      "Adding ddl: \n",
      "    CREATE TABLE registration (\n",
      "    si_no INT AUTO_INCREMENT PRIMARY KEY,\n",
      "    name_ VARCHAR(255),\n",
      "    cc_no INT,\n",
      "    designation VARCHAR(255),\n",
      "    date_of_joining VARCHAR(100),\n",
      "    grade VARCHAR(10),\n",
      "    year_passed_out INT,\n",
      "    college_name VARCHAR(255),\n",
      "    branch VARCHAR(50),\n",
      "    qualification VARCHAR(50),\n",
      "    photo LONGTEXT,\n",
      "    status_ VARCHAR(255),\n",
      "    existing_cc_no VARCHAR(255),\n",
      "    is_existing VARCHAR(255)\n",
      ")\n",
      "\n"
     ]
    },
    {
     "data": {
      "text/plain": [
       "'5166279-ddl'"
      ]
     },
     "execution_count": 15,
     "metadata": {},
     "output_type": "execute_result"
    }
   ],
   "source": [
    "vn.train(ddl=\"\"\"\n",
    "    CREATE TABLE registration (\n",
    "    si_no INT AUTO_INCREMENT PRIMARY KEY,\n",
    "    name_ VARCHAR(255),\n",
    "    cc_no INT,\n",
    "    designation VARCHAR(255),\n",
    "    date_of_joining VARCHAR(100),\n",
    "    grade VARCHAR(10),\n",
    "    year_passed_out INT,\n",
    "    college_name VARCHAR(255),\n",
    "    branch VARCHAR(50),\n",
    "    qualification VARCHAR(50),\n",
    "    photo LONGTEXT,\n",
    "    status_ VARCHAR(255),\n",
    "    existing_cc_no VARCHAR(255),\n",
    "    is_existing VARCHAR(255)\n",
    ")\n",
    "\"\"\")"
   ]
  },
  {
   "cell_type": "code",
   "execution_count": null,
   "metadata": {},
   "outputs": [],
   "source": []
  },
  {
   "cell_type": "code",
   "execution_count": null,
   "metadata": {},
   "outputs": [
    {
     "name": "stdout",
     "output_type": "stream",
     "text": [
      "Adding documentation....\n"
     ]
    },
    {
     "data": {
      "text/plain": [
       "'3312594-doc'"
      ]
     },
     "execution_count": 18,
     "metadata": {},
     "output_type": "execute_result"
    }
   ],
   "source": [
    "\n"
   ]
  },
  {
   "cell_type": "code",
   "execution_count": 19,
   "metadata": {},
   "outputs": [
    {
     "data": {
      "text/plain": [
       "'6c9cdff91badc0929aec2e1f76c6eca5-sql'"
      ]
     },
     "execution_count": 19,
     "metadata": {},
     "output_type": "execute_result"
    }
   ],
   "source": [
    "vn.train(\n",
    "    question=\"How many trainees totally registered?\",\n",
    "    sql=\"\"\"SELECT count(*) \n",
    "    FROM registration\"\"\"\n",
    "    )"
   ]
  },
  {
   "cell_type": "code",
   "execution_count": 22,
   "metadata": {},
   "outputs": [
    {
     "data": {
      "text/plain": [
       "'4dfc75843e2c4ed188cbb47603cc03a3-sql'"
      ]
     },
     "execution_count": 22,
     "metadata": {},
     "output_type": "execute_result"
    }
   ],
   "source": [
    "from datetime import date\n",
    "\n",
    "today_date = date.today().strftime('%Y-%m-%d')\n",
    "\n",
    "vn.train(\n",
    "    question=\"How many trainees totally registered today?\",\n",
    "    sql=f\"\"\"SELECT count(*) \n",
    "    FROM registration \n",
    "    WHERE date_of_joining = '{today_date}'\"\"\"\n",
    ")"
   ]
  },
  {
   "cell_type": "code",
   "execution_count": 5,
   "metadata": {},
   "outputs": [
    {
     "data": {
      "text/plain": [
       "'07b1175cb8597e29705a89b0e795eac1-sql'"
      ]
     },
     "execution_count": 5,
     "metadata": {},
     "output_type": "execute_result"
    }
   ],
   "source": [
    "from datetime import date\n",
    "\n",
    "today_date = date.today().strftime('%Y-%m-%d')\n",
    "cc_no = 52753  # Define the trainee CC number\n",
    "\n",
    "vn.train(\n",
    "    question=\"In basic induction, has the trainee with CC No. 52753 passed or not?\",\n",
    "    sql=f\"\"\"SELECT cc_no, status_ \n",
    "    FROM vision_db.examine_details \n",
    "    WHERE cc_no = {cc_no};\"\"\"\n",
    ")\n"
   ]
  },
  {
   "cell_type": "code",
   "execution_count": null,
   "metadata": {},
   "outputs": [
    {
     "data": {
      "text/plain": [
       "'341a0ea84c71af3527b2de28ce8d1583-sql'"
      ]
     },
     "execution_count": 6,
     "metadata": {},
     "output_type": "execute_result"
    }
   ],
   "source": [
    "cc_no = 52753  # Define the trainee CC number\n",
    "\n",
    "vn.train(\n",
    "    question=\"In basic induction, has the trainee with CC No. 13012 passed or not in topics of 'About Lucas TVS (Customers/Products/Policies)?\",\n",
    "    sql=f\"\"\"SELECT topics, cc_no,status_\n",
    "    FROM vision_db.examine_details \n",
    "    WHERE status_ = 'Fail' and cc_no = '52753' and topics ='About Lucas TVS (Customers/Products/Policies)'\"\"\"\n",
    ")\n"
   ]
  },
  {
   "cell_type": "code",
   "execution_count": null,
   "metadata": {},
   "outputs": [],
   "source": [
    " # Define the trainee CC number\n",
    "\n",
    "vn.train(\n",
    "    question=\"In basic induction, has the trainee with CC No. 13012 passed or not in topics is 'About Lucas TVS (Customers/Products/Policies)?\",\n",
    "    sql=f\"\"\"SELECT topics, cc_no,status_\n",
    "    FROM vision_db.examine_details \n",
    "    WHERE status_ = 'Fail' and cc_no = '52753' and topics ='About Lucas TVS (Customers/Products/Policies)'\"\"\"\n",
    ")"
   ]
  },
  {
   "cell_type": "code",
   "execution_count": 8,
   "metadata": {},
   "outputs": [
    {
     "data": {
      "text/plain": [
       "'41e9f8300b79d4064a9c9194f7dbf016-sql'"
      ]
     },
     "execution_count": 8,
     "metadata": {},
     "output_type": "execute_result"
    }
   ],
   "source": [
    "vn.train(\n",
    "    question=\"In basic induction or day1, has the trainee with CC No. 13012 passed or not in topics is 'OHSAS & EMS\",\n",
    "    sql=f\"\"\"SELECT topics, cc_no,status_\n",
    "    FROM vision_db.examine_details \n",
    "    WHERE status_ = 'Fail' and cc_no = '52753' and topics ='About Lucas TVS (Customers/Products/Policies)'\"\"\"\n",
    ")"
   ]
  },
  {
   "cell_type": "code",
   "execution_count": 10,
   "metadata": {},
   "outputs": [
    {
     "data": {
      "text/plain": [
       "'581b5399afc7fcaffefe4a016e5f1aa8-sql'"
      ]
     },
     "execution_count": 10,
     "metadata": {},
     "output_type": "execute_result"
    }
   ],
   "source": [
    "vn.train(\n",
    "    question=\"In basic induction, has the trainee with CC No. 13012 passed or not in the topic 'Awareness of Quality'?\",\n",
    "    sql=f\"\"\"SELECT topics, cc_no, status_\n",
    "    FROM vision_db.examine_details \n",
    "    WHERE cc_no = '13012' AND topics = 'Awareness of Quality';\"\"\"\n",
    ")\n"
   ]
  },
  {
   "cell_type": "markdown",
   "metadata": {},
   "source": []
  },
  {
   "cell_type": "code",
   "execution_count": null,
   "metadata": {},
   "outputs": [],
   "source": [
    "vn.train(\n",
    "    question=\"In basic induction, has the trainee with CC No. 13012 passed or not in the topic 'Awareness of Quality'?\",\n",
    "    sql=f\"\"\"SELECT topics, cc_no, status_\n",
    "    FROM vision_db.examine_details \n",
    "    WHERE cc_no = '13012' AND topics = 'Awareness of Quality';\"\"\"\n",
    ")\n"
   ]
  },
  {
   "cell_type": "code",
   "execution_count": null,
   "metadata": {},
   "outputs": [],
   "source": [
    "vn.train(\n",
    "    question=\"In basic induction or day1, has the trainee with CC No. 13012 passed or not in the topic 'Awareness of Quality'?\",\n",
    "    sql=f\"\"\"SELECT r.cc_no, r.name_, COUNT(md.status_) AS pass_count \n",
    "FROM registration r \n",
    "JOIN examine_details md ON r.cc_no = md.cc_no \n",
    "WHERE md.topics = 'Awareness of Quality' AND md.status_ = 'Pass' \n",
    "GROUP BY r.cc_no, r.name_\"\"\"\n",
    ")"
   ]
  },
  {
   "cell_type": "markdown",
   "metadata": {},
   "source": [
    "In basic induction, has the trainee with CC No. 13589 is status of all topics if status is all pass give it as pass else he is fail\n",
    "how of them aree pass in topic Awareness of Quality give cc_no and give the name but take the name from registration table\n",
    "\n",
    "SELECT r.cc_no, r.name_, COUNT(md.status_) AS pass_count \n",
    "FROM registration r \n",
    "JOIN memory_details md ON r.cc_no = md.cc_no \n",
    "WHERE md.topics = 'Awareness of Quality' AND md.status_ = 'Pass' \n",
    "GROUP BY r.cc_no, r.name_"
   ]
  },
  {
   "cell_type": "markdown",
   "metadata": {},
   "source": [
    "#Above is for day1 and in basic induction ===================== ===    ==========================="
   ]
  },
  {
   "cell_type": "markdown",
   "metadata": {},
   "source": [
    "#Above is for day4 and Dextery exercise =====================   ===    =========================="
   ]
  },
  {
   "cell_type": "code",
   "execution_count": 23,
   "metadata": {},
   "outputs": [
    {
     "data": {
      "text/plain": [
       "'d046cdfa7218282951f95fc64fdff235-sql'"
      ]
     },
     "execution_count": 23,
     "metadata": {},
     "output_type": "execute_result"
    }
   ],
   "source": [
    "vn.train(\n",
    "    question=\"In Dexterity exercise or day4, average pass in which attempts\",\n",
    "    sql=f\"\"\"SELECT attempt_number,pf_status,count(attempt_number) AS c\n",
    "FROM attempts  where  pf_status = 'Pass'\n",
    "GROUP BY attempt_number\"\"\"\n",
    ")"
   ]
  },
  {
   "cell_type": "code",
   "execution_count": 24,
   "metadata": {},
   "outputs": [
    {
     "data": {
      "text/plain": [
       "'a5a2b8b7b33ace3b2ea198e8b9a665d6-sql'"
      ]
     },
     "execution_count": 24,
     "metadata": {},
     "output_type": "execute_result"
    }
   ],
   "source": [
    "vn.train(\n",
    "    question=\"In Dexterity exercise or day4, cc_no 52753 status passed or not\",\n",
    "    sql=f\"\"\"SELECT attempt_number, status_\n",
    "FROM attempts  where  cc_no = '52753' \n",
    "\"\"\"\n",
    ")"
   ]
  },
  {
   "cell_type": "code",
   "execution_count": 27,
   "metadata": {},
   "outputs": [
    {
     "data": {
      "text/plain": [
       "'b6462d17315035f0138ad71374213c99-sql'"
      ]
     },
     "execution_count": 27,
     "metadata": {},
     "output_type": "execute_result"
    }
   ],
   "source": [
    "vn.train(\n",
    "    question=\"In Dexterity exercise or day4, cc_no 52753 status passed or not in all,If all are pass give rsult as pass\",\n",
    "    sql=f\"\"\"SELECT \n",
    "    CASE \n",
    "        WHEN COUNT(CASE WHEN status_ = 'Pass' THEN 1 END) = COUNT(*) THEN 'Pass' \n",
    "        ELSE 'Fail' \n",
    "    END AS overall_status \n",
    "FROM assembly \n",
    "WHERE cc_no = '52753'\n",
    "\"\"\"\n",
    ")"
   ]
  },
  {
   "cell_type": "code",
   "execution_count": null,
   "metadata": {},
   "outputs": [],
   "source": [
    "vn.train(\n",
    "    question=\"In Dexterity exercise or day4, cc_no 52753 status passed or not in all,If all are pass give rsult as pass give the name of the cc_no\",\n",
    "    sql=f\"\"\"SELECT r.name,\n",
    "    CASE \n",
    "        WHEN COUNT(CASE WHEN status_ = 'Pass' THEN 1 END) = COUNT(*) THEN 'Pass' \n",
    "        ELSE 'Fail' \n",
    "    END AS overall_status \n",
    "FROM assembly AS a join  registration AS r ON a.cc_no = r.cc_no\n",
    "WHERE a.cc_no = '52753'\n",
    "\"\"\"\n",
    ")"
   ]
  },
  {
   "cell_type": "markdown",
   "metadata": {},
   "source": [
    "#Day 5 part1 queries"
   ]
  },
  {
   "cell_type": "code",
   "execution_count": 3,
   "metadata": {},
   "outputs": [
    {
     "data": {
      "text/plain": [
       "'9b431ec88cd41f8352934131f0a64dbb-sql'"
      ]
     },
     "execution_count": 3,
     "metadata": {},
     "output_type": "execute_result"
    }
   ],
   "source": [
    "vn.train(\n",
    "    question=\"In Ji memory  exercise or day5 first half, cc_no 52753 status passed or not\",\n",
    "    sql=f\"\"\"SELECT attempts,mistakes, status_\n",
    "FROM memory_details  where  cc_no = '52753' \n",
    "\"\"\"\n",
    ")"
   ]
  },
  {
   "cell_type": "code",
   "execution_count": 4,
   "metadata": {},
   "outputs": [
    {
     "data": {
      "text/plain": [
       "'f5b07d7b1b71ad6f7b6d55e9d5815381-sql'"
      ]
     },
     "execution_count": 4,
     "metadata": {},
     "output_type": "execute_result"
    }
   ],
   "source": [
    "vn.train(\n",
    "    question=\"In Ji memory exercise (day 5 first half), did cc_no 52753 pass or not?\",\n",
    "    sql=f\"\"\"SELECT attempts, mistakes, status_\n",
    "FROM memory_details WHERE cc_no = '52753' \n",
    "\"\"\"\n",
    ")\n"
   ]
  },
  {
   "cell_type": "code",
   "execution_count": 6,
   "metadata": {},
   "outputs": [
    {
     "data": {
      "text/plain": [
       "'d9421d6a8a03324a602a44bb298977cb-sql'"
      ]
     },
     "execution_count": 6,
     "metadata": {},
     "output_type": "execute_result"
    }
   ],
   "source": [
    "vn.train(\n",
    "    question=\"In the Ji memory exercise (Day 5, first half), did cc_no 52753 pass in all attempts overall?\",\n",
    "    sql=f\"\"\"SELECT r.name_,\n",
    "    CASE \n",
    "        WHEN COUNT(CASE WHEN m.status_ = 'Pass' THEN 1 END) = COUNT(*) THEN 'Pass'\n",
    "        ELSE 'Fail'\n",
    "    END AS OVERALL_RESULT \n",
    "    FROM memory_details AS m \n",
    "    JOIN registration AS r ON m.cc_no = r.cc_no\n",
    "    WHERE m.cc_no = '52753'  \n",
    "    GROUP BY r.name_\n",
    "\"\"\"\n",
    ")\n"
   ]
  },
  {
   "cell_type": "code",
   "execution_count": 7,
   "metadata": {},
   "outputs": [
    {
     "data": {
      "text/plain": [
       "'b2fc3509782c1826cbaf2059f142d376-sql'"
      ]
     },
     "execution_count": 7,
     "metadata": {},
     "output_type": "execute_result"
    }
   ],
   "source": [
    "vn.train(\n",
    "    question=\"In the Ji memory exercise (Day 5, first half), who are all pass and fail\",\n",
    "    sql=f\"\"\"SELECT r.name_,\n",
    "    CASE \n",
    "        WHEN COUNT(CASE WHEN m.status_ = 'Pass' THEN 1 END) = COUNT(*) THEN 'Pass'\n",
    "        ELSE 'Fail'\n",
    "    END AS OVERALL_RESULT \n",
    "    FROM memory_details AS m \n",
    "    JOIN registration AS r ON m.cc_no = r.cc_no \n",
    "    GROUP BY r.name_\n",
    "\"\"\"\n",
    ")"
   ]
  },
  {
   "cell_type": "code",
   "execution_count": 8,
   "metadata": {},
   "outputs": [
    {
     "data": {
      "text/plain": [
       "'0fc66bc4b8848421bdb46cfbee987401-sql'"
      ]
     },
     "execution_count": 8,
     "metadata": {},
     "output_type": "execute_result"
    }
   ],
   "source": [
    "vn.train(\n",
    "    question=\"In the Ji memory exercise (Day 5, first half), find max mistakes of all the person\",\n",
    "    sql=f\"\"\"SELECT r.name_,\n",
    "     max(m.mistakes) AS Max_mistakes\n",
    "    FROM memory_details AS m \n",
    "    JOIN registration AS r ON m.cc_no = r.cc_no \n",
    "    GROUP BY r.name_\n",
    "    \n",
    "\"\"\"\n",
    ")"
   ]
  },
  {
   "cell_type": "code",
   "execution_count": 9,
   "metadata": {},
   "outputs": [
    {
     "data": {
      "text/plain": [
       "'1ede503424234f2925a7019e4bd651fd-sql'"
      ]
     },
     "execution_count": 9,
     "metadata": {},
     "output_type": "execute_result"
    }
   ],
   "source": [
    "vn.train(\n",
    "    question=\"In the cycle time achievement (Day 5, second half), cc_no is 13012 ,give the status \",\n",
    "    sql=f\"\"\"SELECT t.status_,r.name_\n",
    "    FROM tasks_cycle AS t \n",
    "    JOIN registration AS r ON t.cc_no = r.cc_no WHERE t.cc_no = '52753'\"\"\"\n",
    ")"
   ]
  },
  {
   "cell_type": "code",
   "execution_count": null,
   "metadata": {},
   "outputs": [
    {
     "data": {
      "text/plain": [
       "'1048e770ed4202219211630e84363150-sql'"
      ]
     },
     "execution_count": 10,
     "metadata": {},
     "output_type": "execute_result"
    }
   ],
   "source": [
    "vn.train(\n",
    "    question=\"Give the status for all in the cycle time achievement\",\n",
    "    sql=f\"\"\"SELECT t.status_,r.name_\n",
    "    FROM tasks_cycle AS t \n",
    "    JOIN registration AS r ON t.cc_no = r.cc_no\"\"\"\n",
    ")"
   ]
  },
  {
   "cell_type": "code",
   "execution_count": 13,
   "metadata": {},
   "outputs": [
    {
     "data": {
      "text/plain": [
       "'63191ac9a3f70806b4e3fc80f654bf05-sql'"
      ]
     },
     "execution_count": 13,
     "metadata": {},
     "output_type": "execute_result"
    }
   ],
   "source": [
    "vn.train(\n",
    "    question=\"In the cycle time achievement give the status \",\n",
    "    sql=f\"\"\"SELECT status_, cc_no\n",
    "    FROM tasks_cycle WHERE cc_no = '52753'\"\"\"\n",
    ")"
   ]
  },
  {
   "cell_type": "code",
   "execution_count": 12,
   "metadata": {},
   "outputs": [
    {
     "data": {
      "text/plain": [
       "'1ede503424234f2925a7019e4bd651fd-sql'"
      ]
     },
     "execution_count": 12,
     "metadata": {},
     "output_type": "execute_result"
    }
   ],
   "source": [
    "vn.train(\n",
    "    question=\"In the cycle time achievement (Day 5, second half), cc_no is 13012 ,give the status \",\n",
    "    sql=f\"\"\"SELECT status_, cc_no\n",
    "    FROM tasks_cycle WHERE cc_no = '52753'\"\"\"\n",
    ")"
   ]
  },
  {
   "cell_type": "code",
   "execution_count": 11,
   "metadata": {},
   "outputs": [
    {
     "data": {
      "text/plain": [
       "'61e03e1db29c70a5b6f8213771e47b55-sql'"
      ]
     },
     "execution_count": 11,
     "metadata": {},
     "output_type": "execute_result"
    }
   ],
   "source": [
    "vn.train(\n",
    "    question=\"Give the status for all in the cycle time achievement \",\n",
    "    sql=f\"\"\"SELECT t.status_,r.name_\n",
    "    FROM tasks_cycle AS t \n",
    "    JOIN registration AS r ON t.cc_no = r.cc_no\"\"\"\n",
    ")"
   ]
  },
  {
   "cell_type": "code",
   "execution_count": 8,
   "metadata": {},
   "outputs": [
    {
     "data": {
      "text/plain": [
       "'acb19239f6f71ed41035ce6e53cf51b0-sql'"
      ]
     },
     "execution_count": 8,
     "metadata": {},
     "output_type": "execute_result"
    }
   ],
   "source": [
    "vn.train(\n",
    "    question=\"In the cycle time achievement (Day 5, second half),give the status\",\n",
    "    sql=f\"\"\"SELECT status_, cc_no\n",
    "    FROM tasks_cycle\"\"\"\n",
    ")"
   ]
  },
  {
   "cell_type": "code",
   "execution_count": 9,
   "metadata": {},
   "outputs": [
    {
     "data": {
      "text/plain": [
       "'22c11e700d9450b95f31fb0f956dbcaa-sql'"
      ]
     },
     "execution_count": 9,
     "metadata": {},
     "output_type": "execute_result"
    }
   ],
   "source": [
    "vn.train(\n",
    "    question=\"In the cycle time achievement (Day 5, second half),give the status for cc_no is 13012\",\n",
    "    sql=f\"\"\"SELECT status_, cc_no\n",
    "    FROM tasks_cycle WHERE cc_no = '52753'\"\"\"\n",
    ")"
   ]
  },
  {
   "cell_type": "code",
   "execution_count": null,
   "metadata": {},
   "outputs": [],
   "source": [
    "vn.train(\n",
    "    question=\"In the cycle time achievement (Day 5, second half), cc_no is 13012 ,give the status \",\n",
    "    sql=f\"\"\"SELECT status_, cc_no\n",
    "    FROM tasks_cycle WHERE cc_no = '52753'\"\"\"\n",
    ")"
   ]
  },
  {
   "cell_type": "markdown",
   "metadata": {},
   "source": [
    "#### checking overall table status"
   ]
  },
  {
   "cell_type": "code",
   "execution_count": 4,
   "metadata": {},
   "outputs": [
    {
     "data": {
      "text/plain": [
       "'724d472706a6837a92861a1a5cf6c832-sql'"
      ]
     },
     "execution_count": 4,
     "metadata": {},
     "output_type": "execute_result"
    }
   ],
   "source": [
    "vn.train(\n",
    "    question=\"Give the status for all all the tabe for all\",\n",
    "    sql=f\"\"\"SELECT e.cc_no,\n",
    "CASE\n",
    "\tWHEN count(CASE WHEN e.status_ = 'Pass' THEN 1 END ) = count(*) THEN 'Pass'\n",
    "    ELSE 'Fail'\n",
    "    END AS Basic_Induction_Trainee,\n",
    "CASE \n",
    "\tWHEN count(CASE WHEN a.status_ = 'Pass' THEN 1 END) = count(*) THEN 'Pass'\n",
    "    ELSE 'Fail'\n",
    "    END AS Dexterity_Excercise,\n",
    "CASE \n",
    "\tWHEN count(CASE WHEN m.status_ = 'Pass' THEN 1 END) = count(*) THEN 'Pass'\n",
    "    ELSE 'Fail'\n",
    "    END AS Ji_memory_test,\n",
    "CASE \n",
    "\tWHEN count(CASE WHEN t.status_ = 'Pass' THEN 1 END) = count(*) THEN 'Pass'\n",
    "    ELSE 'Fail'\n",
    "    END AS Cycle_time_achievement\n",
    " FROM examine_details AS e JOIN  attempts AS a  JOIN memory_details AS m  JOIN tasks_cycle AS t \n",
    " on e.cc_no = a.cc_no  and e.cc_no = m.cc_no and e.cc_no = t.cc_no\n",
    " GROUP BY e.cc_no;\"\"\"\n",
    ")"
   ]
  },
  {
   "cell_type": "code",
   "execution_count": null,
   "metadata": {},
   "outputs": [
    {
     "data": {
      "text/plain": [
       "'34d77aa66c3be66d8faa53e9ace58e72-sql'"
      ]
     },
     "execution_count": 5,
     "metadata": {},
     "output_type": "execute_result"
    }
   ],
   "source": [
    "vn.train(\n",
    "    question=\"What is the overall pass/fail status in all tables (Basic Induction Trainee, Dexterity Exercise, Ji Memory Test, Cycle Time Achievement) for the candidate with cc_no 52753\",\n",
    "    sql=f\"\"\"SELECT e.cc_no,\n",
    "CASE\n",
    "\tWHEN count(CASE WHEN e.status_ = 'Pass' THEN 1 END ) = count(*) THEN 'Pass'\n",
    "    ELSE 'Fail'\n",
    "    END AS Basic_Induction_Trainee,\n",
    "CASE \n",
    "\tWHEN count(CASE WHEN a.status_ = 'Pass' THEN 1 END) = count(*) THEN 'Pass'\n",
    "    ELSE 'Fail'\n",
    "    END AS Dexterity_Excercise,\n",
    "CASE \n",
    "\tWHEN count(CASE WHEN m.status_ = 'Pass' THEN 1 END) = count(*) THEN 'Pass'\n",
    "    ELSE 'Fail'\n",
    "    END AS Ji_memory_test,\n",
    "CASE \n",
    "\tWHEN count(CASE WHEN t.status_ = 'Pass' THEN 1 END) = count(*) THEN 'Pass'\n",
    "    ELSE 'Fail'\n",
    "    END AS Cycle_time_achievement\n",
    " FROM examine_details AS e JOIN  attempts AS a  JOIN memory_details AS m  JOIN tasks_cycle AS t \n",
    " on e.cc_no = a.cc_no  and e.cc_no = m.cc_no and e.cc_no = t.cc_no\n",
    " WHERE e.cc_no = '52753'\n",
    " GROUP BY e.cc_no;\"\"\"\n",
    ")"
   ]
  },
  {
   "cell_type": "code",
   "execution_count": 6,
   "metadata": {},
   "outputs": [
    {
     "data": {
      "text/plain": [
       "'ec48e7f42c774e046d3c611c55054c8b-sql'"
      ]
     },
     "execution_count": 6,
     "metadata": {},
     "output_type": "execute_result"
    }
   ],
   "source": [
    "vn.train(\n",
    "    question=\"Give the status of all tests for cc_no 52753\",\n",
    "    sql=f\"\"\"SELECT e.cc_no,\n",
    "CASE\n",
    "\tWHEN count(CASE WHEN e.status_ = 'Pass' THEN 1 END ) = count(*) THEN 'Pass'\n",
    "    ELSE 'Fail'\n",
    "    END AS Basic_Induction_Trainee,\n",
    "CASE \n",
    "\tWHEN count(CASE WHEN a.status_ = 'Pass' THEN 1 END) = count(*) THEN 'Pass'\n",
    "    ELSE 'Fail'\n",
    "    END AS Dexterity_Excercise,\n",
    "CASE \n",
    "\tWHEN count(CASE WHEN m.status_ = 'Pass' THEN 1 END) = count(*) THEN 'Pass'\n",
    "    ELSE 'Fail'\n",
    "    END AS Ji_memory_test,\n",
    "CASE \n",
    "\tWHEN count(CASE WHEN t.status_ = 'Pass' THEN 1 END) = count(*) THEN 'Pass'\n",
    "    ELSE 'Fail'\n",
    "    END AS Cycle_time_achievement\n",
    " FROM examine_details AS e JOIN  attempts AS a  JOIN memory_details AS m  JOIN tasks_cycle AS t \n",
    " on e.cc_no = a.cc_no  and e.cc_no = m.cc_no and e.cc_no = t.cc_no\n",
    " WHERE e.cc_no = '52753'\n",
    " GROUP BY e.cc_no;\"\"\"\n",
    ")"
   ]
  },
  {
   "cell_type": "code",
   "execution_count": null,
   "metadata": {},
   "outputs": [
    {
     "data": {
      "text/plain": [
       "'33261b0c6d3a76c9354d599034c446c0-sql'"
      ]
     },
     "execution_count": 7,
     "metadata": {},
     "output_type": "execute_result"
    }
   ],
   "source": [
    "vn.train(\n",
    "    question=\"\",\n",
    "    sql=f\"\"\"SELECT e.cc_no,\n",
    "CASE\n",
    "\tWHEN count(CASE WHEN e.status_ = 'Pass' THEN 1 END ) = count(*) THEN 'Pass'\n",
    "    ELSE 'Fail'\n",
    "    END AS Basic_Induction_Trainee,\n",
    "CASE \n",
    "\tWHEN count(CASE WHEN a.status_ = 'Pass' THEN 1 END) = count(*) THEN 'Pass'\n",
    "    ELSE 'Fail'\n",
    "    END AS Dexterity_Excercise,\n",
    "CASE \n",
    "\tWHEN count(CASE WHEN m.status_ = 'Pass' THEN 1 END) = count(*) THEN 'Pass'\n",
    "    ELSE 'Fail'\n",
    "    END AS Ji_memory_test,\n",
    "CASE \n",
    "\tWHEN count(CASE WHEN t.status_ = 'Pass' THEN 1 END) = count(*) THEN 'Pass'\n",
    "    ELSE 'Fail'\n",
    "    END AS Cycle_time_achievement\n",
    " FROM examine_details AS e JOIN  attempts AS a  JOIN memory_details AS m  JOIN tasks_cycle AS t \n",
    " on e.cc_no = a.cc_no  and e.cc_no = m.cc_no and e.cc_no = t.cc_no\n",
    " WHERE e.cc_no = '52753'\n",
    " GROUP BY e.cc_no;\"\"\"\n",
    ")"
   ]
  },
  {
   "cell_type": "code",
   "execution_count": 10,
   "metadata": {},
   "outputs": [
    {
     "name": "stdout",
     "output_type": "stream",
     "text": [
      "SQL Prompt: [{'role': 'system', 'content': \"You are a SQL expert. Please help to generate a SQL query to answer the question. Your response should ONLY be based on the given context and follow the response guidelines and format instructions. \\n===Tables \\n\\n    CREATE TABLE attempts (\\n    attempts_id INT AUTO_INCREMENT PRIMARY KEY,\\n    task_id INT,\\n    attempt_number INT,\\n    pf_status VARCHAR(255),\\n    mistakes VARCHAR(255),\\n    cc_no VARCHAR(100),\\n    status_ VARCHAR(255),\\n    Signature_by_Trainee LONGTEXT,\\n    Signature_by_Process_Coach VARCHAR(255),\\n    Signature_by_Training_Officer VARCHAR(255),\\n    cycle_time VARCHAR(255),\\n    remarks VARCHAR(255),\\n    date VARCHAR(100),\\n    place VARCHAR(100),\\n    BU_table VARCHAR(100)\\n)\\n\\n\\n\\n    CREATE TABLE examine_details (\\n    si_no INT AUTO_INCREMENT PRIMARY KEY,\\n    topics VARCHAR(255),\\n    cc_no VARCHAR(100),\\n    actual_score VARCHAR(255),\\n    status_ VARCHAR(255),\\n    sign_by_trainee LONGTEXT,\\n    sign_by_training_officer LONGTEXT,\\n    Remarks VARCHAR(255),\\n    date VARCHAR(100),\\n    place VARCHAR(100),\\n    faculty_name VARCHAR(100),\\n    day_one VARCHAR(100),\\n    day_two VARCHAR(100),\\n    day_three VARCHAR(100),\\n    entry_date VARCHAR(100)\\n)\\n\\n\\n\\n    CREATE TABLE memory_details (\\n    memory_id INT AUTO_INCREMENT PRIMARY KEY,\\n    cc_no VARCHAR(255),\\n    process_name VARCHAR(255),\\n    process_obsevations VARCHAR(255),\\n    attempts VARCHAR(255),\\n    mistakes VARCHAR(255),\\n    heart_test VARCHAR(255),\\n    data_time VARCHAR(255),\\n    status_ VARCHAR(255),\\n    sign_trainee LONGTEXT,\\n    sign_team_leader VARCHAR(255),\\n    remarks VARCHAR(255),\\n    place VARCHAR(100),\\n    module VARCHAR(100),\\n    cell VARCHAR(100),\\n    title_memory_process_name VARCHAR(100)\\n)\\n\\n\\n\\n    CREATE TABLE registration (\\n    si_no INT AUTO_INCREMENT PRIMARY KEY,\\n    name_ VARCHAR(255),\\n    cc_no INT,\\n    designation VARCHAR(255),\\n    date_of_joining VARCHAR(100),\\n    grade VARCHAR(10),\\n    year_passed_out INT,\\n    college_name VARCHAR(255),\\n    branch VARCHAR(50),\\n    qualification VARCHAR(50),\\n    photo LONGTEXT,\\n    status_ VARCHAR(255),\\n    existing_cc_no VARCHAR(255),\\n    is_existing VARCHAR(255)\\n)\\n\\n\\n\\n===Additional Context \\n\\n\\nThis database includes several tables to track and evaluate trainee performance.  \\nIt stores trainee details, attempts, assigned tasks, signatures, and evaluation summaries  \\nto assess skill levels and progress in a structured manner.\\n\\n\\n===Response Guidelines \\n1. If the provided context is sufficient, please generate a valid SQL query without any explanations for the question. \\n2. If the provided context is almost sufficient but requires knowledge of a specific string in a particular column, please generate an intermediate SQL query to find the distinct strings in that column. Prepend the query with a comment saying intermediate_sql \\n3. If the provided context is insufficient, please explain why it can't be generated. \\n4. Please use the most relevant table(s). \\n5. If the question has been asked and answered before, please repeat the answer exactly as it was given before. \\n6. Ensure that the output SQL is SQL-compliant and executable, and free of syntax errors. \\n\"}, {'role': 'user', 'content': 'Give the status for all in the cycle time achievement '}, {'role': 'assistant', 'content': 'SELECT t.status_,r.name_\\n    FROM tasks_cycle AS t \\n    JOIN registration AS r ON t.cc_no = r.cc_no'}, {'role': 'user', 'content': 'In the cycle time achievement give the status '}, {'role': 'assistant', 'content': \"SELECT status_, cc_no\\n    FROM tasks_cycle WHERE cc_no = '52753'\"}, {'role': 'user', 'content': 'Give the status for all in the cycle time achievement (Day 5, second half)'}, {'role': 'assistant', 'content': 'SELECT t.status_,r.name_\\n    FROM tasks_cycle AS t \\n    JOIN registration AS r ON t.cc_no = r.cc_no'}, {'role': 'user', 'content': 'In the cycle time achievement (Day 5, second half), cc_no is 13012 ,give the status '}, {'role': 'assistant', 'content': \"SELECT t.status_,r.name_\\n    FROM tasks_cycle AS t \\n    JOIN registration AS r ON t.cc_no = r.cc_no WHERE t.cc_no = '52753'\"}, {'role': 'user', 'content': 'In the cycle time achievement (Day 5, second half), cc_no is 52753 ,give the status '}, {'role': 'assistant', 'content': \"SELECT status_ \\nFROM attempts \\nWHERE cc_no = '52753';\"}, {'role': 'user', 'content': 'In Dexterity exercise or day4, cc_no 52753 status passed or not in all'}, {'role': 'assistant', 'content': \"SELECT status_ \\nFROM attempts \\nWHERE cc_no = '52753';\"}, {'role': 'user', 'content': 'What is the overall pass/fail status in all tables (Basic Induction Trainee, Dexterity Exercise, Ji Memory Test, Cycle Time Achievement) for the candidate with cc_no 52753'}, {'role': 'assistant', 'content': \"SELECT e.cc_no,\\nCASE\\n\\tWHEN count(CASE WHEN e.status_ = 'Pass' THEN 1 END ) = count(*) THEN 'Pass'\\n    ELSE 'Fail'\\n    END AS Basic_Induction_Trainee,\\nCASE \\n\\tWHEN count(CASE WHEN a.status_ = 'Pass' THEN 1 END) = count(*) THEN 'Pass'\\n    ELSE 'Fail'\\n    END AS Dexterity_Excercise,\\nCASE \\n\\tWHEN count(CASE WHEN m.status_ = 'Pass' THEN 1 END) = count(*) THEN 'Pass'\\n    ELSE 'Fail'\\n    END AS Ji_memory_test,\\nCASE \\n\\tWHEN count(CASE WHEN t.status_ = 'Pass' THEN 1 END) = count(*) THEN 'Pass'\\n    ELSE 'Fail'\\n    END AS Cycle_time_achievement\\n FROM examine_details AS e JOIN  attempts AS a  JOIN memory_details AS m  JOIN tasks_cycle AS t \\n on e.cc_no = a.cc_no  and e.cc_no = m.cc_no and e.cc_no = t.cc_no\\n WHERE e.cc_no = '52753'\\n GROUP BY e.cc_no;;\"}, {'role': 'user', 'content': 'In Dexterity exercise or day4, cc_no 52753 status passed or not'}, {'role': 'assistant', 'content': \"SELECT attempt_number, status_\\nFROM attempts  where  cc_no = '52753' \\n\"}, {'role': 'user', 'content': 'Give the status of all tests for cc_no 52753'}, {'role': 'assistant', 'content': \"SELECT e.cc_no,\\nCASE\\n\\tWHEN count(CASE WHEN e.status_ = 'Pass' THEN 1 END ) = count(*) THEN 'Pass'\\n    ELSE 'Fail'\\n    END AS Basic_Induction_Trainee,\\nCASE \\n\\tWHEN count(CASE WHEN a.status_ = 'Pass' THEN 1 END) = count(*) THEN 'Pass'\\n    ELSE 'Fail'\\n    END AS Dexterity_Excercise,\\nCASE \\n\\tWHEN count(CASE WHEN m.status_ = 'Pass' THEN 1 END) = count(*) THEN 'Pass'\\n    ELSE 'Fail'\\n    END AS Ji_memory_test,\\nCASE \\n\\tWHEN count(CASE WHEN t.status_ = 'Pass' THEN 1 END) = count(*) THEN 'Pass'\\n    ELSE 'Fail'\\n    END AS Cycle_time_achievement\\n FROM examine_details AS e JOIN  attempts AS a  JOIN memory_details AS m  JOIN tasks_cycle AS t \\n on e.cc_no = a.cc_no  and e.cc_no = m.cc_no and e.cc_no = t.cc_no\\n WHERE e.cc_no = '52753'\\n GROUP BY e.cc_no;\"}, {'role': 'user', 'content': 'In Dexterity exercise or day4, cc_no 52753 status passed or not in all,If all are pass give rsult as pass'}, {'role': 'assistant', 'content': \"SELECT \\n    CASE \\n        WHEN COUNT(CASE WHEN status_ = 'Pass' THEN 1 END) = COUNT(*) THEN 'Pass' \\n        ELSE 'Fail' \\n    END AS overall_status \\nFROM assembly \\nWHERE cc_no = '52753';\"}, {'role': 'user', 'content': 'Give cycle time achievement status'}]\n",
      "LLM Response: SELECT status_ \n",
      "FROM attempts \n",
      "WHERE cc_no = '52753';\n",
      "Extracted SQL: SELECT status_ \n",
      "FROM attempts \n",
      "WHERE cc_no = '52753';\n",
      "SELECT status_ \n",
      "FROM attempts \n",
      "WHERE cc_no = '52753';\n",
      "   status_\n",
      "0     Pass\n",
      "1     Pass\n",
      "2     Pass\n",
      "3     Pass\n",
      "4     Pass\n",
      "5     Pass\n",
      "6     Pass\n",
      "7     Pass\n",
      "8     Pass\n",
      "9     Pass\n",
      "10    Pass\n",
      "11    Pass\n",
      "12    Pass\n",
      "13    Pass\n",
      "14    Pass\n",
      "15    Pass\n",
      "16    Pass\n",
      "17    Pass\n",
      "18    Pass\n",
      "19    Pass\n",
      "20    Pass\n",
      "21    Pass\n",
      "22    Pass\n",
      "23    Pass\n",
      "24    Pass\n",
      "25    Pass\n",
      "26    Pass\n",
      "27    Pass\n",
      "28    Pass\n",
      "29    Pass\n",
      "30    Pass\n",
      "31    Pass\n",
      "32    Pass\n",
      "33    Pass\n",
      "34    Pass\n",
      "35    Pass\n",
      "36    Pass\n",
      "37    Pass\n",
      "38    Pass\n",
      "39    Pass\n",
      "40    Pass\n",
      "41    Pass\n",
      "42    Pass\n",
      "43    Pass\n",
      "44    Pass\n",
      "45    Pass\n",
      "46    Pass\n",
      "47    Pass\n",
      "48    Pass\n",
      "49    Pass\n"
     ]
    },
    {
     "data": {
      "image/png": "[encoded data removed]",
      "text/plain": [
       "<IPython.core.display.Image object>"
      ]
     },
     "metadata": {},
     "output_type": "display_data"
    },
    {
     "data": {
      "text/plain": [
       "(\"SELECT status_ \\nFROM attempts \\nWHERE cc_no = '52753';\",\n",
       "    status_\n",
       " 0     Pass\n",
       " 1     Pass\n",
       " 2     Pass\n",
       " 3     Pass\n",
       " 4     Pass\n",
       " 5     Pass\n",
       " 6     Pass\n",
       " 7     Pass\n",
       " 8     Pass\n",
       " 9     Pass\n",
       " 10    Pass\n",
       " 11    Pass\n",
       " 12    Pass\n",
       " 13    Pass\n",
       " 14    Pass\n",
       " 15    Pass\n",
       " 16    Pass\n",
       " 17    Pass\n",
       " 18    Pass\n",
       " 19    Pass\n",
       " 20    Pass\n",
       " 21    Pass\n",
       " 22    Pass\n",
       " 23    Pass\n",
       " 24    Pass\n",
       " 25    Pass\n",
       " 26    Pass\n",
       " 27    Pass\n",
       " 28    Pass\n",
       " 29    Pass\n",
       " 30    Pass\n",
       " 31    Pass\n",
       " 32    Pass\n",
       " 33    Pass\n",
       " 34    Pass\n",
       " 35    Pass\n",
       " 36    Pass\n",
       " 37    Pass\n",
       " 38    Pass\n",
       " 39    Pass\n",
       " 40    Pass\n",
       " 41    Pass\n",
       " 42    Pass\n",
       " 43    Pass\n",
       " 44    Pass\n",
       " 45    Pass\n",
       " 46    Pass\n",
       " 47    Pass\n",
       " 48    Pass\n",
       " 49    Pass,\n",
       " Figure({\n",
       "     'data': [{'bingroup': 'x',\n",
       "               'hovertemplate': 'status_=%{x}<br>count=%{y}<extra></extra>',\n",
       "               'legendgroup': '',\n",
       "               'marker': {'color': '#636efa', 'pattern': {'shape': ''}},\n",
       "               'name': '',\n",
       "               'orientation': 'v',\n",
       "               'showlegend': False,\n",
       "               'type': 'histogram',\n",
       "               'x': array(['Pass', 'Pass', 'Pass', 'Pass', 'Pass', 'Pass', 'Pass', 'Pass', 'Pass',\n",
       "                           'Pass', 'Pass', 'Pass', 'Pass', 'Pass', 'Pass', 'Pass', 'Pass', 'Pass',\n",
       "                           'Pass', 'Pass', 'Pass', 'Pass', 'Pass', 'Pass', 'Pass', 'Pass', 'Pass',\n",
       "                           'Pass', 'Pass', 'Pass', 'Pass', 'Pass', 'Pass', 'Pass', 'Pass', 'Pass',\n",
       "                           'Pass', 'Pass', 'Pass', 'Pass', 'Pass', 'Pass', 'Pass', 'Pass', 'Pass',\n",
       "                           'Pass', 'Pass', 'Pass', 'Pass', 'Pass'], dtype=object),\n",
       "               'xaxis': 'x',\n",
       "               'yaxis': 'y'}],\n",
       "     'layout': {'barmode': 'relative',\n",
       "                'legend': {'tracegroupgap': 0},\n",
       "                'template': '...',\n",
       "                'title': {'text': 'Cycle Time Achievement Status Distribution'},\n",
       "                'xaxis': {'anchor': 'y', 'domain': [0.0, 1.0], 'title': {'text': 'status_'}},\n",
       "                'yaxis': {'anchor': 'x', 'domain': [0.0, 1.0], 'title': {'text': 'count'}}}\n",
       " }))"
      ]
     },
     "execution_count": 10,
     "metadata": {},
     "output_type": "execute_result"
    }
   ],
   "source": [
    "vn.ask(\"Give cycle time achievement status\")\n"
   ]
  },
  {
   "cell_type": "code",
   "execution_count": 37,
   "metadata": {},
   "outputs": [
    {
     "data": {
      "text/html": [
       "<div>\n",
       "<style scoped>\n",
       "    .dataframe tbody tr th:only-of-type {\n",
       "        vertical-align: middle;\n",
       "    }\n",
       "\n",
       "    .dataframe tbody tr th {\n",
       "        vertical-align: top;\n",
       "    }\n",
       "\n",
       "    .dataframe thead th {\n",
       "        text-align: right;\n",
       "    }\n",
       "</style>\n",
       "<table border=\"1\" class=\"dataframe\">\n",
       "  <thead>\n",
       "    <tr style=\"text-align: right;\">\n",
       "      <th></th>\n",
       "      <th>id</th>\n",
       "      <th>training_data_type</th>\n",
       "      <th>question</th>\n",
       "      <th>content</th>\n",
       "    </tr>\n",
       "  </thead>\n",
       "  <tbody>\n",
       "    <tr>\n",
       "      <th>0</th>\n",
       "      <td>1048033-sql</td>\n",
       "      <td>sql</td>\n",
       "      <td>In Dexterity exercise or day4, cc_no 52753 sta...</td>\n",
       "      <td>SELECT \\n    CASE \\n        WHEN COUNT(CASE WH...</td>\n",
       "    </tr>\n",
       "    <tr>\n",
       "      <th>1</th>\n",
       "      <td>1047960-sql</td>\n",
       "      <td>sql</td>\n",
       "      <td>In basic induction, has the trainee with CC No...</td>\n",
       "      <td>SELECT topics, cc_no,status_\\n    FROM vision_...</td>\n",
       "    </tr>\n",
       "    <tr>\n",
       "      <th>2</th>\n",
       "      <td>1048247-sql</td>\n",
       "      <td>sql</td>\n",
       "      <td>In Ji memory  exercise or day5 first half, cc_...</td>\n",
       "      <td>SELECT attempts,mistakes, status_\\nFROM memory...</td>\n",
       "    </tr>\n",
       "    <tr>\n",
       "      <th>3</th>\n",
       "      <td>1046738-sql</td>\n",
       "      <td>sql</td>\n",
       "      <td>How many trainees totally registered today?</td>\n",
       "      <td>SELECT count(*) \\n    FROM registration \\n    ...</td>\n",
       "    </tr>\n",
       "    <tr>\n",
       "      <th>4</th>\n",
       "      <td>1050227-sql</td>\n",
       "      <td>sql</td>\n",
       "      <td>In the cycle time achievement (Day 5, second h...</td>\n",
       "      <td>SELECT status_ \\nFROM attempts \\nWHERE cc_no =...</td>\n",
       "    </tr>\n",
       "    <tr>\n",
       "      <th>5</th>\n",
       "      <td>1050221-sql</td>\n",
       "      <td>sql</td>\n",
       "      <td>Give the status of all tests for cc_no 52753</td>\n",
       "      <td>SELECT e.cc_no,\\nCASE\\n\\tWHEN count(CASE WHEN ...</td>\n",
       "    </tr>\n",
       "    <tr>\n",
       "      <th>6</th>\n",
       "      <td>1047965-sql</td>\n",
       "      <td>sql</td>\n",
       "      <td>In basic induction, has the trainee with CC No...</td>\n",
       "      <td>SELECT topics, cc_no, status_\\n    FROM vision...</td>\n",
       "    </tr>\n",
       "    <tr>\n",
       "      <th>7</th>\n",
       "      <td>1047963-sql</td>\n",
       "      <td>sql</td>\n",
       "      <td>In basic induction, has the trainee with CC No...</td>\n",
       "      <td>SELECT topics, cc_no, status_\\n    FROM vision...</td>\n",
       "    </tr>\n",
       "    <tr>\n",
       "      <th>8</th>\n",
       "      <td>1050226-sql</td>\n",
       "      <td>sql</td>\n",
       "      <td>In the Ji memory exercise (Day 5, first half),...</td>\n",
       "      <td>SELECT status_ \\nFROM memory_details \\nWHERE c...</td>\n",
       "    </tr>\n",
       "    <tr>\n",
       "      <th>9</th>\n",
       "      <td>5739027-ddl</td>\n",
       "      <td>ddl</td>\n",
       "      <td>None</td>\n",
       "      <td>\\n    CREATE TABLE examine_details (\\n    si_n...</td>\n",
       "    </tr>\n",
       "    <tr>\n",
       "      <th>10</th>\n",
       "      <td>1050395-sql</td>\n",
       "      <td>sql</td>\n",
       "      <td>Give the result of all table</td>\n",
       "      <td>SELECT * FROM registration;</td>\n",
       "    </tr>\n",
       "    <tr>\n",
       "      <th>11</th>\n",
       "      <td>1048322-sql</td>\n",
       "      <td>sql</td>\n",
       "      <td>In the cycle time achievement (Day 5, second h...</td>\n",
       "      <td>SELECT t.status_,r.name_\\n    FROM tasks_cycle...</td>\n",
       "    </tr>\n",
       "    <tr>\n",
       "      <th>12</th>\n",
       "      <td>3312594-doc</td>\n",
       "      <td>documentation</td>\n",
       "      <td>None</td>\n",
       "      <td>\\nThis database includes several tables to tra...</td>\n",
       "    </tr>\n",
       "    <tr>\n",
       "      <th>13</th>\n",
       "      <td>1050398-sql</td>\n",
       "      <td>sql</td>\n",
       "      <td>In the cycle time achievement (Day 5, second h...</td>\n",
       "      <td>SELECT status_, cc_no\\n    FROM tasks_cycle</td>\n",
       "    </tr>\n",
       "    <tr>\n",
       "      <th>14</th>\n",
       "      <td>1048251-sql</td>\n",
       "      <td>sql</td>\n",
       "      <td>In the Ji memory exercise (Day 5, first half),...</td>\n",
       "      <td>SELECT r.name_,\\n    CASE \\n        WHEN COUNT...</td>\n",
       "    </tr>\n",
       "    <tr>\n",
       "      <th>15</th>\n",
       "      <td>1050396-sql</td>\n",
       "      <td>sql</td>\n",
       "      <td>Give the status of all table</td>\n",
       "      <td>SELECT \\n    'Examine Details' AS Table_Name, ...</td>\n",
       "    </tr>\n",
       "    <tr>\n",
       "      <th>16</th>\n",
       "      <td>1048323-sql</td>\n",
       "      <td>sql</td>\n",
       "      <td>Give the status for all in the cycle time achi...</td>\n",
       "      <td>SELECT t.status_,r.name_\\n    FROM tasks_cycle...</td>\n",
       "    </tr>\n",
       "    <tr>\n",
       "      <th>17</th>\n",
       "      <td>1050399-sql</td>\n",
       "      <td>sql</td>\n",
       "      <td>In the cycle time achievement (Day 5, second h...</td>\n",
       "      <td>SELECT status_, cc_no\\n    FROM tasks_cycle WH...</td>\n",
       "    </tr>\n",
       "    <tr>\n",
       "      <th>18</th>\n",
       "      <td>1048028-sql</td>\n",
       "      <td>sql</td>\n",
       "      <td>In Dexterity exercise or day4, cc_no 52753 sta...</td>\n",
       "      <td>SELECT attempt_number, status_\\nFROM attempts ...</td>\n",
       "    </tr>\n",
       "    <tr>\n",
       "      <th>19</th>\n",
       "      <td>1048025-sql</td>\n",
       "      <td>sql</td>\n",
       "      <td>In Dexterity exercise or day4, average pass in...</td>\n",
       "      <td>SELECT attempt_number,pf_status,count(attempt_...</td>\n",
       "    </tr>\n",
       "    <tr>\n",
       "      <th>20</th>\n",
       "      <td>1050224-sql</td>\n",
       "      <td>sql</td>\n",
       "      <td>In the cycle time achievement give the status</td>\n",
       "      <td>SELECT status_, cc_no\\n    FROM tasks_cycle WH...</td>\n",
       "    </tr>\n",
       "    <tr>\n",
       "      <th>21</th>\n",
       "      <td>1046717-sql</td>\n",
       "      <td>sql</td>\n",
       "      <td>How many trainees totally registered?</td>\n",
       "      <td>SELECT count(*) \\n    FROM registration</td>\n",
       "    </tr>\n",
       "    <tr>\n",
       "      <th>22</th>\n",
       "      <td>1050394-sql</td>\n",
       "      <td>sql</td>\n",
       "      <td>Overall table pass or fail status</td>\n",
       "      <td>SELECT \\n    CASE \\n        WHEN COUNT(CASE WH...</td>\n",
       "    </tr>\n",
       "    <tr>\n",
       "      <th>23</th>\n",
       "      <td>1047970-sql</td>\n",
       "      <td>sql</td>\n",
       "      <td>In basic induction, has the trainee with CC No...</td>\n",
       "      <td>SELECT \\n    CASE \\n        WHEN COUNT(CASE WH...</td>\n",
       "    </tr>\n",
       "    <tr>\n",
       "      <th>24</th>\n",
       "      <td>1050222-sql</td>\n",
       "      <td>sql</td>\n",
       "      <td>Give the result of all tests for cc_no 52753</td>\n",
       "      <td>SELECT e.cc_no,\\nCASE\\n\\tWHEN count(CASE WHEN ...</td>\n",
       "    </tr>\n",
       "    <tr>\n",
       "      <th>25</th>\n",
       "      <td>1047975-sql</td>\n",
       "      <td>sql</td>\n",
       "      <td>how of them aree pass in topic Awareness of Q...</td>\n",
       "      <td>SELECT r.cc_no, r.name_, e.status_ \\nFROM regi...</td>\n",
       "    </tr>\n",
       "    <tr>\n",
       "      <th>26</th>\n",
       "      <td>1050219-sql</td>\n",
       "      <td>sql</td>\n",
       "      <td>Give the status for all all the tabe for all</td>\n",
       "      <td>SELECT e.cc_no,\\nCASE\\n\\tWHEN count(CASE WHEN ...</td>\n",
       "    </tr>\n",
       "    <tr>\n",
       "      <th>27</th>\n",
       "      <td>1047962-sql</td>\n",
       "      <td>sql</td>\n",
       "      <td>In basic induction or day1, has the trainee wi...</td>\n",
       "      <td>SELECT topics, cc_no,status_\\n    FROM vision_...</td>\n",
       "    </tr>\n",
       "    <tr>\n",
       "      <th>28</th>\n",
       "      <td>1046739-sql</td>\n",
       "      <td>sql</td>\n",
       "      <td>how many person registered yesterday?</td>\n",
       "      <td>SELECT count(*) \\n    FROM registration \\n    ...</td>\n",
       "    </tr>\n",
       "    <tr>\n",
       "      <th>29</th>\n",
       "      <td>5166279-ddl</td>\n",
       "      <td>ddl</td>\n",
       "      <td>None</td>\n",
       "      <td>\\n    CREATE TABLE registration (\\n    si_no I...</td>\n",
       "    </tr>\n",
       "    <tr>\n",
       "      <th>30</th>\n",
       "      <td>1048252-sql</td>\n",
       "      <td>sql</td>\n",
       "      <td>In the Ji memory exercise (Day 5, first half),...</td>\n",
       "      <td>SELECT r.name_,\\n    CASE \\n        WHEN COUNT...</td>\n",
       "    </tr>\n",
       "    <tr>\n",
       "      <th>31</th>\n",
       "      <td>1048255-sql</td>\n",
       "      <td>sql</td>\n",
       "      <td>In the Ji memory exercise (Day 5, first half),...</td>\n",
       "      <td>SELECT r.name_,\\n     max(m.mistakes) AS Max_m...</td>\n",
       "    </tr>\n",
       "    <tr>\n",
       "      <th>32</th>\n",
       "      <td>5738801-ddl</td>\n",
       "      <td>ddl</td>\n",
       "      <td>None</td>\n",
       "      <td>\\n    CREATE TABLE attempts (\\n    attempts_id...</td>\n",
       "    </tr>\n",
       "    <tr>\n",
       "      <th>33</th>\n",
       "      <td>1050416-sql</td>\n",
       "      <td>sql</td>\n",
       "      <td>(Day 5, second half),give the status for cc_no...</td>\n",
       "      <td>SELECT status_, cc_no\\n    FROM tasks_cycle WH...</td>\n",
       "    </tr>\n",
       "    <tr>\n",
       "      <th>34</th>\n",
       "      <td>1047976-sql</td>\n",
       "      <td>sql</td>\n",
       "      <td>Tell me joining date of cc no 13589</td>\n",
       "      <td>SELECT date_of_joining \\n    FROM registration...</td>\n",
       "    </tr>\n",
       "    <tr>\n",
       "      <th>35</th>\n",
       "      <td>1047964-sql</td>\n",
       "      <td>sql</td>\n",
       "      <td>In basic induction, has the trainee with CC No...</td>\n",
       "      <td>SELECT topics, cc_no, status_\\n    FROM vision...</td>\n",
       "    </tr>\n",
       "    <tr>\n",
       "      <th>36</th>\n",
       "      <td>1048032-sql</td>\n",
       "      <td>sql</td>\n",
       "      <td>In Dexterity exercise or day4, cc_no 52753 sta...</td>\n",
       "      <td>SELECT status_ \\nFROM attempts \\nWHERE cc_no =...</td>\n",
       "    </tr>\n",
       "    <tr>\n",
       "      <th>37</th>\n",
       "      <td>1050397-sql</td>\n",
       "      <td>sql</td>\n",
       "      <td>Give cycle time achievement status</td>\n",
       "      <td>SELECT status_ \\nFROM attempts;</td>\n",
       "    </tr>\n",
       "    <tr>\n",
       "      <th>38</th>\n",
       "      <td>5166806-ddl</td>\n",
       "      <td>ddl</td>\n",
       "      <td>None</td>\n",
       "      <td>\\n    CREATE TABLE memory_details (\\n    memor...</td>\n",
       "    </tr>\n",
       "    <tr>\n",
       "      <th>39</th>\n",
       "      <td>1047969-sql</td>\n",
       "      <td>sql</td>\n",
       "      <td>In basic induction, has the trainee with CC No...</td>\n",
       "      <td>SELECT topics, cc_no, status_ \\n    FROM visio...</td>\n",
       "    </tr>\n",
       "    <tr>\n",
       "      <th>40</th>\n",
       "      <td>1047959-sql</td>\n",
       "      <td>sql</td>\n",
       "      <td>In basic induction, has the trainee with CC No...</td>\n",
       "      <td>SELECT cc_no, status_ \\n    FROM vision_db.exa...</td>\n",
       "    </tr>\n",
       "    <tr>\n",
       "      <th>41</th>\n",
       "      <td>1048248-sql</td>\n",
       "      <td>sql</td>\n",
       "      <td>In Ji memory exercise (day 5 first half), did ...</td>\n",
       "      <td>SELECT attempts, mistakes, status_\\nFROM memor...</td>\n",
       "    </tr>\n",
       "    <tr>\n",
       "      <th>42</th>\n",
       "      <td>1048324-sql</td>\n",
       "      <td>sql</td>\n",
       "      <td>Give the status for all in the cycle time achi...</td>\n",
       "      <td>SELECT t.status_,r.name_\\n    FROM tasks_cycle...</td>\n",
       "    </tr>\n",
       "    <tr>\n",
       "      <th>43</th>\n",
       "      <td>1050220-sql</td>\n",
       "      <td>sql</td>\n",
       "      <td>What is the overall pass/fail status in all ta...</td>\n",
       "      <td>SELECT e.cc_no,\\nCASE\\n\\tWHEN count(CASE WHEN ...</td>\n",
       "    </tr>\n",
       "    <tr>\n",
       "      <th>44</th>\n",
       "      <td>1047971-sql</td>\n",
       "      <td>sql</td>\n",
       "      <td>how of them aree failed in topic Awareness of...</td>\n",
       "      <td>SELECT count(*) \\n    FROM vision_db.examine_d...</td>\n",
       "    </tr>\n",
       "    <tr>\n",
       "      <th>45</th>\n",
       "      <td>1050225-sql</td>\n",
       "      <td>sql</td>\n",
       "      <td>In the Ji memory exercise (Day 5, first half),...</td>\n",
       "      <td>SELECT r.name_, m.status_\\nFROM memory_details...</td>\n",
       "    </tr>\n",
       "    <tr>\n",
       "      <th>46</th>\n",
       "      <td>1047966-sql</td>\n",
       "      <td>sql</td>\n",
       "      <td>In basic induction, has the trainee with CC No...</td>\n",
       "      <td>SELECT topics, cc_no, status_\\n    FROM vision...</td>\n",
       "    </tr>\n",
       "    <tr>\n",
       "      <th>47</th>\n",
       "      <td>1050223-sql</td>\n",
       "      <td>sql</td>\n",
       "      <td>give the result all test table</td>\n",
       "      <td>SELECT e.cc_no,\\nCASE\\n\\tWHEN count(CASE WHEN ...</td>\n",
       "    </tr>\n",
       "    <tr>\n",
       "      <th>48</th>\n",
       "      <td>1047972-sql</td>\n",
       "      <td>sql</td>\n",
       "      <td>how of them aree pass in topic Awareness of Q...</td>\n",
       "      <td>SELECT count(*) \\n    FROM vision_db.examine_d...</td>\n",
       "    </tr>\n",
       "    <tr>\n",
       "      <th>49</th>\n",
       "      <td>1046718-sql</td>\n",
       "      <td>sql</td>\n",
       "      <td>how many person restered?</td>\n",
       "      <td>SELECT count(*) \\n    FROM registration</td>\n",
       "    </tr>\n",
       "  </tbody>\n",
       "</table>\n",
       "</div>"
      ],
      "text/plain": [
       "             id training_data_type  \\\n",
       "0   1048033-sql                sql   \n",
       "1   1047960-sql                sql   \n",
       "2   1048247-sql                sql   \n",
       "3   1046738-sql                sql   \n",
       "4   1050227-sql                sql   \n",
       "5   1050221-sql                sql   \n",
       "6   1047965-sql                sql   \n",
       "7   1047963-sql                sql   \n",
       "8   1050226-sql                sql   \n",
       "9   5739027-ddl                ddl   \n",
       "10  1050395-sql                sql   \n",
       "11  1048322-sql                sql   \n",
       "12  3312594-doc      documentation   \n",
       "13  1050398-sql                sql   \n",
       "14  1048251-sql                sql   \n",
       "15  1050396-sql                sql   \n",
       "16  1048323-sql                sql   \n",
       "17  1050399-sql                sql   \n",
       "18  1048028-sql                sql   \n",
       "19  1048025-sql                sql   \n",
       "20  1050224-sql                sql   \n",
       "21  1046717-sql                sql   \n",
       "22  1050394-sql                sql   \n",
       "23  1047970-sql                sql   \n",
       "24  1050222-sql                sql   \n",
       "25  1047975-sql                sql   \n",
       "26  1050219-sql                sql   \n",
       "27  1047962-sql                sql   \n",
       "28  1046739-sql                sql   \n",
       "29  5166279-ddl                ddl   \n",
       "30  1048252-sql                sql   \n",
       "31  1048255-sql                sql   \n",
       "32  5738801-ddl                ddl   \n",
       "33  1050416-sql                sql   \n",
       "34  1047976-sql                sql   \n",
       "35  1047964-sql                sql   \n",
       "36  1048032-sql                sql   \n",
       "37  1050397-sql                sql   \n",
       "38  5166806-ddl                ddl   \n",
       "39  1047969-sql                sql   \n",
       "40  1047959-sql                sql   \n",
       "41  1048248-sql                sql   \n",
       "42  1048324-sql                sql   \n",
       "43  1050220-sql                sql   \n",
       "44  1047971-sql                sql   \n",
       "45  1050225-sql                sql   \n",
       "46  1047966-sql                sql   \n",
       "47  1050223-sql                sql   \n",
       "48  1047972-sql                sql   \n",
       "49  1046718-sql                sql   \n",
       "\n",
       "                                             question  \\\n",
       "0   In Dexterity exercise or day4, cc_no 52753 sta...   \n",
       "1   In basic induction, has the trainee with CC No...   \n",
       "2   In Ji memory  exercise or day5 first half, cc_...   \n",
       "3         How many trainees totally registered today?   \n",
       "4   In the cycle time achievement (Day 5, second h...   \n",
       "5        Give the status of all tests for cc_no 52753   \n",
       "6   In basic induction, has the trainee with CC No...   \n",
       "7   In basic induction, has the trainee with CC No...   \n",
       "8   In the Ji memory exercise (Day 5, first half),...   \n",
       "9                                                None   \n",
       "10                       Give the result of all table   \n",
       "11  In the cycle time achievement (Day 5, second h...   \n",
       "12                                               None   \n",
       "13  In the cycle time achievement (Day 5, second h...   \n",
       "14  In the Ji memory exercise (Day 5, first half),...   \n",
       "15                       Give the status of all table   \n",
       "16  Give the status for all in the cycle time achi...   \n",
       "17  In the cycle time achievement (Day 5, second h...   \n",
       "18  In Dexterity exercise or day4, cc_no 52753 sta...   \n",
       "19  In Dexterity exercise or day4, average pass in...   \n",
       "20     In the cycle time achievement give the status    \n",
       "21              How many trainees totally registered?   \n",
       "22                  Overall table pass or fail status   \n",
       "23  In basic induction, has the trainee with CC No...   \n",
       "24       Give the result of all tests for cc_no 52753   \n",
       "25   how of them aree pass in topic Awareness of Q...   \n",
       "26       Give the status for all all the tabe for all   \n",
       "27  In basic induction or day1, has the trainee wi...   \n",
       "28              how many person registered yesterday?   \n",
       "29                                               None   \n",
       "30  In the Ji memory exercise (Day 5, first half),...   \n",
       "31  In the Ji memory exercise (Day 5, first half),...   \n",
       "32                                               None   \n",
       "33  (Day 5, second half),give the status for cc_no...   \n",
       "34               Tell me joining date of cc no 13589    \n",
       "35  In basic induction, has the trainee with CC No...   \n",
       "36  In Dexterity exercise or day4, cc_no 52753 sta...   \n",
       "37                 Give cycle time achievement status   \n",
       "38                                               None   \n",
       "39  In basic induction, has the trainee with CC No...   \n",
       "40  In basic induction, has the trainee with CC No...   \n",
       "41  In Ji memory exercise (day 5 first half), did ...   \n",
       "42  Give the status for all in the cycle time achi...   \n",
       "43  What is the overall pass/fail status in all ta...   \n",
       "44   how of them aree failed in topic Awareness of...   \n",
       "45  In the Ji memory exercise (Day 5, first half),...   \n",
       "46  In basic induction, has the trainee with CC No...   \n",
       "47                    give the result all test table    \n",
       "48   how of them aree pass in topic Awareness of Q...   \n",
       "49                          how many person restered?   \n",
       "\n",
       "                                              content  \n",
       "0   SELECT \\n    CASE \\n        WHEN COUNT(CASE WH...  \n",
       "1   SELECT topics, cc_no,status_\\n    FROM vision_...  \n",
       "2   SELECT attempts,mistakes, status_\\nFROM memory...  \n",
       "3   SELECT count(*) \\n    FROM registration \\n    ...  \n",
       "4   SELECT status_ \\nFROM attempts \\nWHERE cc_no =...  \n",
       "5   SELECT e.cc_no,\\nCASE\\n\\tWHEN count(CASE WHEN ...  \n",
       "6   SELECT topics, cc_no, status_\\n    FROM vision...  \n",
       "7   SELECT topics, cc_no, status_\\n    FROM vision...  \n",
       "8   SELECT status_ \\nFROM memory_details \\nWHERE c...  \n",
       "9   \\n    CREATE TABLE examine_details (\\n    si_n...  \n",
       "10                        SELECT * FROM registration;  \n",
       "11  SELECT t.status_,r.name_\\n    FROM tasks_cycle...  \n",
       "12  \\nThis database includes several tables to tra...  \n",
       "13        SELECT status_, cc_no\\n    FROM tasks_cycle  \n",
       "14  SELECT r.name_,\\n    CASE \\n        WHEN COUNT...  \n",
       "15  SELECT \\n    'Examine Details' AS Table_Name, ...  \n",
       "16  SELECT t.status_,r.name_\\n    FROM tasks_cycle...  \n",
       "17  SELECT status_, cc_no\\n    FROM tasks_cycle WH...  \n",
       "18  SELECT attempt_number, status_\\nFROM attempts ...  \n",
       "19  SELECT attempt_number,pf_status,count(attempt_...  \n",
       "20  SELECT status_, cc_no\\n    FROM tasks_cycle WH...  \n",
       "21            SELECT count(*) \\n    FROM registration  \n",
       "22  SELECT \\n    CASE \\n        WHEN COUNT(CASE WH...  \n",
       "23  SELECT \\n    CASE \\n        WHEN COUNT(CASE WH...  \n",
       "24  SELECT e.cc_no,\\nCASE\\n\\tWHEN count(CASE WHEN ...  \n",
       "25  SELECT r.cc_no, r.name_, e.status_ \\nFROM regi...  \n",
       "26  SELECT e.cc_no,\\nCASE\\n\\tWHEN count(CASE WHEN ...  \n",
       "27  SELECT topics, cc_no,status_\\n    FROM vision_...  \n",
       "28  SELECT count(*) \\n    FROM registration \\n    ...  \n",
       "29  \\n    CREATE TABLE registration (\\n    si_no I...  \n",
       "30  SELECT r.name_,\\n    CASE \\n        WHEN COUNT...  \n",
       "31  SELECT r.name_,\\n     max(m.mistakes) AS Max_m...  \n",
       "32  \\n    CREATE TABLE attempts (\\n    attempts_id...  \n",
       "33  SELECT status_, cc_no\\n    FROM tasks_cycle WH...  \n",
       "34  SELECT date_of_joining \\n    FROM registration...  \n",
       "35  SELECT topics, cc_no, status_\\n    FROM vision...  \n",
       "36  SELECT status_ \\nFROM attempts \\nWHERE cc_no =...  \n",
       "37                    SELECT status_ \\nFROM attempts;  \n",
       "38  \\n    CREATE TABLE memory_details (\\n    memor...  \n",
       "39  SELECT topics, cc_no, status_ \\n    FROM visio...  \n",
       "40  SELECT cc_no, status_ \\n    FROM vision_db.exa...  \n",
       "41  SELECT attempts, mistakes, status_\\nFROM memor...  \n",
       "42  SELECT t.status_,r.name_\\n    FROM tasks_cycle...  \n",
       "43  SELECT e.cc_no,\\nCASE\\n\\tWHEN count(CASE WHEN ...  \n",
       "44  SELECT count(*) \\n    FROM vision_db.examine_d...  \n",
       "45  SELECT r.name_, m.status_\\nFROM memory_details...  \n",
       "46  SELECT topics, cc_no, status_\\n    FROM vision...  \n",
       "47  SELECT e.cc_no,\\nCASE\\n\\tWHEN count(CASE WHEN ...  \n",
       "48  SELECT count(*) \\n    FROM vision_db.examine_d...  \n",
       "49            SELECT count(*) \\n    FROM registration  "
      ]
     },
     "execution_count": 37,
     "metadata": {},
     "output_type": "execute_result"
    }
   ],
   "source": [
    "train_df = vn.get_training_data()\n",
    "train_df"
   ]
  },
  {
   "cell_type": "markdown",
   "metadata": {},
   "source": []
  },
  {
   "cell_type": "code",
   "execution_count": 37,
   "metadata": {},
   "outputs": [
    {
     "data": {
      "text/html": [
       "<div>\n",
       "<style scoped>\n",
       "    .dataframe tbody tr th:only-of-type {\n",
       "        vertical-align: middle;\n",
       "    }\n",
       "\n",
       "    .dataframe tbody tr th {\n",
       "        vertical-align: top;\n",
       "    }\n",
       "\n",
       "    .dataframe thead th {\n",
       "        text-align: right;\n",
       "    }\n",
       "</style>\n",
       "<table border=\"1\" class=\"dataframe\">\n",
       "  <thead>\n",
       "    <tr style=\"text-align: right;\">\n",
       "      <th></th>\n",
       "      <th>id</th>\n",
       "      <th>training_data_type</th>\n",
       "      <th>question</th>\n",
       "      <th>content</th>\n",
       "    </tr>\n",
       "  </thead>\n",
       "  <tbody>\n",
       "    <tr>\n",
       "      <th>22</th>\n",
       "      <td>5166279-ddl</td>\n",
       "      <td>ddl</td>\n",
       "      <td>None</td>\n",
       "      <td>\\n    CREATE TABLE registration (\\n    si_no I...</td>\n",
       "    </tr>\n",
       "    <tr>\n",
       "      <th>28</th>\n",
       "      <td>5166806-ddl</td>\n",
       "      <td>ddl</td>\n",
       "      <td>None</td>\n",
       "      <td>\\n    CREATE TABLE memory_details (\\n    memor...</td>\n",
       "    </tr>\n",
       "  </tbody>\n",
       "</table>\n",
       "</div>"
      ],
      "text/plain": [
       "             id training_data_type question  \\\n",
       "22  5166279-ddl                ddl     None   \n",
       "28  5166806-ddl                ddl     None   \n",
       "\n",
       "                                              content  \n",
       "22  \\n    CREATE TABLE registration (\\n    si_no I...  \n",
       "28  \\n    CREATE TABLE memory_details (\\n    memor...  "
      ]
     },
     "execution_count": 37,
     "metadata": {},
     "output_type": "execute_result"
    }
   ],
   "source": [
    "train_df[train_df['training_data_type']=='ddl']"
   ]
  },
  {
   "cell_type": "code",
   "execution_count": 34,
   "metadata": {},
   "outputs": [
    {
     "data": {
      "text/plain": [
       "True"
      ]
     },
     "execution_count": 34,
     "metadata": {},
     "output_type": "execute_result"
    }
   ],
   "source": [
    "vn.remove_training_data(id='5166805-ddl')"
   ]
  }
 ],
 "metadata": {
  "kernelspec": {
   "display_name": "Python 3",
   "language": "python",
   "name": "python3"
  },
  "language_info": {
   "codemirror_mode": {
    "name": "ipython",
    "version": 3
   },
   "file_extension": ".py",
   "mimetype": "text/x-python",
   "name": "python",
   "nbconvert_exporter": "python",
   "pygments_lexer": "ipython3",
   "version": "3.10.0"
  }
 },
 "nbformat": 4,
 "nbformat_minor": 2
}
